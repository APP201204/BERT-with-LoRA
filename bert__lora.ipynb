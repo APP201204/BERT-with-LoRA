{
  "nbformat": 4,
  "nbformat_minor": 0,
  "metadata": {
    "colab": {
      "provenance": [],
      "gpuType": "T4"
    },
    "kernelspec": {
      "name": "python3",
      "display_name": "Python 3"
    },
    "language_info": {
      "name": "python"
    },
    "accelerator": "GPU",
    "widgets": {
      "application/vnd.jupyter.widget-state+json": {
        "1e42347f16fe434f8834835d6be21228": {
          "model_module": "@jupyter-widgets/controls",
          "model_name": "HBoxModel",
          "model_module_version": "1.5.0",
          "state": {
            "_dom_classes": [],
            "_model_module": "@jupyter-widgets/controls",
            "_model_module_version": "1.5.0",
            "_model_name": "HBoxModel",
            "_view_count": null,
            "_view_module": "@jupyter-widgets/controls",
            "_view_module_version": "1.5.0",
            "_view_name": "HBoxView",
            "box_style": "",
            "children": [
              "IPY_MODEL_9dd49fa8d3124036a113d205c2047429",
              "IPY_MODEL_eea3eeb8ffe04e25abdffedd682a863f",
              "IPY_MODEL_b986b2cc9ecb4bbd9fb5637bc90d9eb1"
            ],
            "layout": "IPY_MODEL_f0584928c16e401bb9cccedb03ce03be"
          }
        },
        "9dd49fa8d3124036a113d205c2047429": {
          "model_module": "@jupyter-widgets/controls",
          "model_name": "HTMLModel",
          "model_module_version": "1.5.0",
          "state": {
            "_dom_classes": [],
            "_model_module": "@jupyter-widgets/controls",
            "_model_module_version": "1.5.0",
            "_model_name": "HTMLModel",
            "_view_count": null,
            "_view_module": "@jupyter-widgets/controls",
            "_view_module_version": "1.5.0",
            "_view_name": "HTMLView",
            "description": "",
            "description_tooltip": null,
            "layout": "IPY_MODEL_5adb5dfd24434819b921aecd07df2a0f",
            "placeholder": "​",
            "style": "IPY_MODEL_b917076f5f7041378f5806a4dbe97c27",
            "value": "Map: 100%"
          }
        },
        "eea3eeb8ffe04e25abdffedd682a863f": {
          "model_module": "@jupyter-widgets/controls",
          "model_name": "FloatProgressModel",
          "model_module_version": "1.5.0",
          "state": {
            "_dom_classes": [],
            "_model_module": "@jupyter-widgets/controls",
            "_model_module_version": "1.5.0",
            "_model_name": "FloatProgressModel",
            "_view_count": null,
            "_view_module": "@jupyter-widgets/controls",
            "_view_module_version": "1.5.0",
            "_view_name": "ProgressView",
            "bar_style": "success",
            "description": "",
            "description_tooltip": null,
            "layout": "IPY_MODEL_76dd249d57464b5886fb72be11e6958b",
            "max": 14041,
            "min": 0,
            "orientation": "horizontal",
            "style": "IPY_MODEL_a961b04989794e43875b564b6a23f398",
            "value": 14041
          }
        },
        "b986b2cc9ecb4bbd9fb5637bc90d9eb1": {
          "model_module": "@jupyter-widgets/controls",
          "model_name": "HTMLModel",
          "model_module_version": "1.5.0",
          "state": {
            "_dom_classes": [],
            "_model_module": "@jupyter-widgets/controls",
            "_model_module_version": "1.5.0",
            "_model_name": "HTMLModel",
            "_view_count": null,
            "_view_module": "@jupyter-widgets/controls",
            "_view_module_version": "1.5.0",
            "_view_name": "HTMLView",
            "description": "",
            "description_tooltip": null,
            "layout": "IPY_MODEL_fa58f2bf0f55468b803541e20b8d50b8",
            "placeholder": "​",
            "style": "IPY_MODEL_87bcec520f7644c6aab8e782917429a7",
            "value": " 14041/14041 [00:02&lt;00:00, 6531.57 examples/s]"
          }
        },
        "f0584928c16e401bb9cccedb03ce03be": {
          "model_module": "@jupyter-widgets/base",
          "model_name": "LayoutModel",
          "model_module_version": "1.2.0",
          "state": {
            "_model_module": "@jupyter-widgets/base",
            "_model_module_version": "1.2.0",
            "_model_name": "LayoutModel",
            "_view_count": null,
            "_view_module": "@jupyter-widgets/base",
            "_view_module_version": "1.2.0",
            "_view_name": "LayoutView",
            "align_content": null,
            "align_items": null,
            "align_self": null,
            "border": null,
            "bottom": null,
            "display": null,
            "flex": null,
            "flex_flow": null,
            "grid_area": null,
            "grid_auto_columns": null,
            "grid_auto_flow": null,
            "grid_auto_rows": null,
            "grid_column": null,
            "grid_gap": null,
            "grid_row": null,
            "grid_template_areas": null,
            "grid_template_columns": null,
            "grid_template_rows": null,
            "height": null,
            "justify_content": null,
            "justify_items": null,
            "left": null,
            "margin": null,
            "max_height": null,
            "max_width": null,
            "min_height": null,
            "min_width": null,
            "object_fit": null,
            "object_position": null,
            "order": null,
            "overflow": null,
            "overflow_x": null,
            "overflow_y": null,
            "padding": null,
            "right": null,
            "top": null,
            "visibility": null,
            "width": null
          }
        },
        "5adb5dfd24434819b921aecd07df2a0f": {
          "model_module": "@jupyter-widgets/base",
          "model_name": "LayoutModel",
          "model_module_version": "1.2.0",
          "state": {
            "_model_module": "@jupyter-widgets/base",
            "_model_module_version": "1.2.0",
            "_model_name": "LayoutModel",
            "_view_count": null,
            "_view_module": "@jupyter-widgets/base",
            "_view_module_version": "1.2.0",
            "_view_name": "LayoutView",
            "align_content": null,
            "align_items": null,
            "align_self": null,
            "border": null,
            "bottom": null,
            "display": null,
            "flex": null,
            "flex_flow": null,
            "grid_area": null,
            "grid_auto_columns": null,
            "grid_auto_flow": null,
            "grid_auto_rows": null,
            "grid_column": null,
            "grid_gap": null,
            "grid_row": null,
            "grid_template_areas": null,
            "grid_template_columns": null,
            "grid_template_rows": null,
            "height": null,
            "justify_content": null,
            "justify_items": null,
            "left": null,
            "margin": null,
            "max_height": null,
            "max_width": null,
            "min_height": null,
            "min_width": null,
            "object_fit": null,
            "object_position": null,
            "order": null,
            "overflow": null,
            "overflow_x": null,
            "overflow_y": null,
            "padding": null,
            "right": null,
            "top": null,
            "visibility": null,
            "width": null
          }
        },
        "b917076f5f7041378f5806a4dbe97c27": {
          "model_module": "@jupyter-widgets/controls",
          "model_name": "DescriptionStyleModel",
          "model_module_version": "1.5.0",
          "state": {
            "_model_module": "@jupyter-widgets/controls",
            "_model_module_version": "1.5.0",
            "_model_name": "DescriptionStyleModel",
            "_view_count": null,
            "_view_module": "@jupyter-widgets/base",
            "_view_module_version": "1.2.0",
            "_view_name": "StyleView",
            "description_width": ""
          }
        },
        "76dd249d57464b5886fb72be11e6958b": {
          "model_module": "@jupyter-widgets/base",
          "model_name": "LayoutModel",
          "model_module_version": "1.2.0",
          "state": {
            "_model_module": "@jupyter-widgets/base",
            "_model_module_version": "1.2.0",
            "_model_name": "LayoutModel",
            "_view_count": null,
            "_view_module": "@jupyter-widgets/base",
            "_view_module_version": "1.2.0",
            "_view_name": "LayoutView",
            "align_content": null,
            "align_items": null,
            "align_self": null,
            "border": null,
            "bottom": null,
            "display": null,
            "flex": null,
            "flex_flow": null,
            "grid_area": null,
            "grid_auto_columns": null,
            "grid_auto_flow": null,
            "grid_auto_rows": null,
            "grid_column": null,
            "grid_gap": null,
            "grid_row": null,
            "grid_template_areas": null,
            "grid_template_columns": null,
            "grid_template_rows": null,
            "height": null,
            "justify_content": null,
            "justify_items": null,
            "left": null,
            "margin": null,
            "max_height": null,
            "max_width": null,
            "min_height": null,
            "min_width": null,
            "object_fit": null,
            "object_position": null,
            "order": null,
            "overflow": null,
            "overflow_x": null,
            "overflow_y": null,
            "padding": null,
            "right": null,
            "top": null,
            "visibility": null,
            "width": null
          }
        },
        "a961b04989794e43875b564b6a23f398": {
          "model_module": "@jupyter-widgets/controls",
          "model_name": "ProgressStyleModel",
          "model_module_version": "1.5.0",
          "state": {
            "_model_module": "@jupyter-widgets/controls",
            "_model_module_version": "1.5.0",
            "_model_name": "ProgressStyleModel",
            "_view_count": null,
            "_view_module": "@jupyter-widgets/base",
            "_view_module_version": "1.2.0",
            "_view_name": "StyleView",
            "bar_color": null,
            "description_width": ""
          }
        },
        "fa58f2bf0f55468b803541e20b8d50b8": {
          "model_module": "@jupyter-widgets/base",
          "model_name": "LayoutModel",
          "model_module_version": "1.2.0",
          "state": {
            "_model_module": "@jupyter-widgets/base",
            "_model_module_version": "1.2.0",
            "_model_name": "LayoutModel",
            "_view_count": null,
            "_view_module": "@jupyter-widgets/base",
            "_view_module_version": "1.2.0",
            "_view_name": "LayoutView",
            "align_content": null,
            "align_items": null,
            "align_self": null,
            "border": null,
            "bottom": null,
            "display": null,
            "flex": null,
            "flex_flow": null,
            "grid_area": null,
            "grid_auto_columns": null,
            "grid_auto_flow": null,
            "grid_auto_rows": null,
            "grid_column": null,
            "grid_gap": null,
            "grid_row": null,
            "grid_template_areas": null,
            "grid_template_columns": null,
            "grid_template_rows": null,
            "height": null,
            "justify_content": null,
            "justify_items": null,
            "left": null,
            "margin": null,
            "max_height": null,
            "max_width": null,
            "min_height": null,
            "min_width": null,
            "object_fit": null,
            "object_position": null,
            "order": null,
            "overflow": null,
            "overflow_x": null,
            "overflow_y": null,
            "padding": null,
            "right": null,
            "top": null,
            "visibility": null,
            "width": null
          }
        },
        "87bcec520f7644c6aab8e782917429a7": {
          "model_module": "@jupyter-widgets/controls",
          "model_name": "DescriptionStyleModel",
          "model_module_version": "1.5.0",
          "state": {
            "_model_module": "@jupyter-widgets/controls",
            "_model_module_version": "1.5.0",
            "_model_name": "DescriptionStyleModel",
            "_view_count": null,
            "_view_module": "@jupyter-widgets/base",
            "_view_module_version": "1.2.0",
            "_view_name": "StyleView",
            "description_width": ""
          }
        },
        "b9eefae8618f4ab0b0445d09d8f5fd96": {
          "model_module": "@jupyter-widgets/controls",
          "model_name": "HBoxModel",
          "model_module_version": "1.5.0",
          "state": {
            "_dom_classes": [],
            "_model_module": "@jupyter-widgets/controls",
            "_model_module_version": "1.5.0",
            "_model_name": "HBoxModel",
            "_view_count": null,
            "_view_module": "@jupyter-widgets/controls",
            "_view_module_version": "1.5.0",
            "_view_name": "HBoxView",
            "box_style": "",
            "children": [
              "IPY_MODEL_01cdaffff97a4161b58780ad73ea6dc9",
              "IPY_MODEL_bfb53ef9b6cf4a579546a44d5f6ca0b3",
              "IPY_MODEL_5df59d5eeb634c3fa3912f3a781c45b6"
            ],
            "layout": "IPY_MODEL_95864936918649eba1abac29c8a7dd24"
          }
        },
        "01cdaffff97a4161b58780ad73ea6dc9": {
          "model_module": "@jupyter-widgets/controls",
          "model_name": "HTMLModel",
          "model_module_version": "1.5.0",
          "state": {
            "_dom_classes": [],
            "_model_module": "@jupyter-widgets/controls",
            "_model_module_version": "1.5.0",
            "_model_name": "HTMLModel",
            "_view_count": null,
            "_view_module": "@jupyter-widgets/controls",
            "_view_module_version": "1.5.0",
            "_view_name": "HTMLView",
            "description": "",
            "description_tooltip": null,
            "layout": "IPY_MODEL_4736573631d548bd9e451c726b9d2a0a",
            "placeholder": "​",
            "style": "IPY_MODEL_9b22cf29eb824b898986cbef68430823",
            "value": "Map: 100%"
          }
        },
        "bfb53ef9b6cf4a579546a44d5f6ca0b3": {
          "model_module": "@jupyter-widgets/controls",
          "model_name": "FloatProgressModel",
          "model_module_version": "1.5.0",
          "state": {
            "_dom_classes": [],
            "_model_module": "@jupyter-widgets/controls",
            "_model_module_version": "1.5.0",
            "_model_name": "FloatProgressModel",
            "_view_count": null,
            "_view_module": "@jupyter-widgets/controls",
            "_view_module_version": "1.5.0",
            "_view_name": "ProgressView",
            "bar_style": "success",
            "description": "",
            "description_tooltip": null,
            "layout": "IPY_MODEL_97ce70d681f141b18e65035f749018e0",
            "max": 3250,
            "min": 0,
            "orientation": "horizontal",
            "style": "IPY_MODEL_687811c11acf4cb18ea7b2986ffb0855",
            "value": 3250
          }
        },
        "5df59d5eeb634c3fa3912f3a781c45b6": {
          "model_module": "@jupyter-widgets/controls",
          "model_name": "HTMLModel",
          "model_module_version": "1.5.0",
          "state": {
            "_dom_classes": [],
            "_model_module": "@jupyter-widgets/controls",
            "_model_module_version": "1.5.0",
            "_model_name": "HTMLModel",
            "_view_count": null,
            "_view_module": "@jupyter-widgets/controls",
            "_view_module_version": "1.5.0",
            "_view_name": "HTMLView",
            "description": "",
            "description_tooltip": null,
            "layout": "IPY_MODEL_ad7d883952c748f495ffc3204f4d2167",
            "placeholder": "​",
            "style": "IPY_MODEL_5ec36f79d12f40aab37a00dd2ee76f57",
            "value": " 3250/3250 [00:00&lt;00:00, 6356.38 examples/s]"
          }
        },
        "95864936918649eba1abac29c8a7dd24": {
          "model_module": "@jupyter-widgets/base",
          "model_name": "LayoutModel",
          "model_module_version": "1.2.0",
          "state": {
            "_model_module": "@jupyter-widgets/base",
            "_model_module_version": "1.2.0",
            "_model_name": "LayoutModel",
            "_view_count": null,
            "_view_module": "@jupyter-widgets/base",
            "_view_module_version": "1.2.0",
            "_view_name": "LayoutView",
            "align_content": null,
            "align_items": null,
            "align_self": null,
            "border": null,
            "bottom": null,
            "display": null,
            "flex": null,
            "flex_flow": null,
            "grid_area": null,
            "grid_auto_columns": null,
            "grid_auto_flow": null,
            "grid_auto_rows": null,
            "grid_column": null,
            "grid_gap": null,
            "grid_row": null,
            "grid_template_areas": null,
            "grid_template_columns": null,
            "grid_template_rows": null,
            "height": null,
            "justify_content": null,
            "justify_items": null,
            "left": null,
            "margin": null,
            "max_height": null,
            "max_width": null,
            "min_height": null,
            "min_width": null,
            "object_fit": null,
            "object_position": null,
            "order": null,
            "overflow": null,
            "overflow_x": null,
            "overflow_y": null,
            "padding": null,
            "right": null,
            "top": null,
            "visibility": null,
            "width": null
          }
        },
        "4736573631d548bd9e451c726b9d2a0a": {
          "model_module": "@jupyter-widgets/base",
          "model_name": "LayoutModel",
          "model_module_version": "1.2.0",
          "state": {
            "_model_module": "@jupyter-widgets/base",
            "_model_module_version": "1.2.0",
            "_model_name": "LayoutModel",
            "_view_count": null,
            "_view_module": "@jupyter-widgets/base",
            "_view_module_version": "1.2.0",
            "_view_name": "LayoutView",
            "align_content": null,
            "align_items": null,
            "align_self": null,
            "border": null,
            "bottom": null,
            "display": null,
            "flex": null,
            "flex_flow": null,
            "grid_area": null,
            "grid_auto_columns": null,
            "grid_auto_flow": null,
            "grid_auto_rows": null,
            "grid_column": null,
            "grid_gap": null,
            "grid_row": null,
            "grid_template_areas": null,
            "grid_template_columns": null,
            "grid_template_rows": null,
            "height": null,
            "justify_content": null,
            "justify_items": null,
            "left": null,
            "margin": null,
            "max_height": null,
            "max_width": null,
            "min_height": null,
            "min_width": null,
            "object_fit": null,
            "object_position": null,
            "order": null,
            "overflow": null,
            "overflow_x": null,
            "overflow_y": null,
            "padding": null,
            "right": null,
            "top": null,
            "visibility": null,
            "width": null
          }
        },
        "9b22cf29eb824b898986cbef68430823": {
          "model_module": "@jupyter-widgets/controls",
          "model_name": "DescriptionStyleModel",
          "model_module_version": "1.5.0",
          "state": {
            "_model_module": "@jupyter-widgets/controls",
            "_model_module_version": "1.5.0",
            "_model_name": "DescriptionStyleModel",
            "_view_count": null,
            "_view_module": "@jupyter-widgets/base",
            "_view_module_version": "1.2.0",
            "_view_name": "StyleView",
            "description_width": ""
          }
        },
        "97ce70d681f141b18e65035f749018e0": {
          "model_module": "@jupyter-widgets/base",
          "model_name": "LayoutModel",
          "model_module_version": "1.2.0",
          "state": {
            "_model_module": "@jupyter-widgets/base",
            "_model_module_version": "1.2.0",
            "_model_name": "LayoutModel",
            "_view_count": null,
            "_view_module": "@jupyter-widgets/base",
            "_view_module_version": "1.2.0",
            "_view_name": "LayoutView",
            "align_content": null,
            "align_items": null,
            "align_self": null,
            "border": null,
            "bottom": null,
            "display": null,
            "flex": null,
            "flex_flow": null,
            "grid_area": null,
            "grid_auto_columns": null,
            "grid_auto_flow": null,
            "grid_auto_rows": null,
            "grid_column": null,
            "grid_gap": null,
            "grid_row": null,
            "grid_template_areas": null,
            "grid_template_columns": null,
            "grid_template_rows": null,
            "height": null,
            "justify_content": null,
            "justify_items": null,
            "left": null,
            "margin": null,
            "max_height": null,
            "max_width": null,
            "min_height": null,
            "min_width": null,
            "object_fit": null,
            "object_position": null,
            "order": null,
            "overflow": null,
            "overflow_x": null,
            "overflow_y": null,
            "padding": null,
            "right": null,
            "top": null,
            "visibility": null,
            "width": null
          }
        },
        "687811c11acf4cb18ea7b2986ffb0855": {
          "model_module": "@jupyter-widgets/controls",
          "model_name": "ProgressStyleModel",
          "model_module_version": "1.5.0",
          "state": {
            "_model_module": "@jupyter-widgets/controls",
            "_model_module_version": "1.5.0",
            "_model_name": "ProgressStyleModel",
            "_view_count": null,
            "_view_module": "@jupyter-widgets/base",
            "_view_module_version": "1.2.0",
            "_view_name": "StyleView",
            "bar_color": null,
            "description_width": ""
          }
        },
        "ad7d883952c748f495ffc3204f4d2167": {
          "model_module": "@jupyter-widgets/base",
          "model_name": "LayoutModel",
          "model_module_version": "1.2.0",
          "state": {
            "_model_module": "@jupyter-widgets/base",
            "_model_module_version": "1.2.0",
            "_model_name": "LayoutModel",
            "_view_count": null,
            "_view_module": "@jupyter-widgets/base",
            "_view_module_version": "1.2.0",
            "_view_name": "LayoutView",
            "align_content": null,
            "align_items": null,
            "align_self": null,
            "border": null,
            "bottom": null,
            "display": null,
            "flex": null,
            "flex_flow": null,
            "grid_area": null,
            "grid_auto_columns": null,
            "grid_auto_flow": null,
            "grid_auto_rows": null,
            "grid_column": null,
            "grid_gap": null,
            "grid_row": null,
            "grid_template_areas": null,
            "grid_template_columns": null,
            "grid_template_rows": null,
            "height": null,
            "justify_content": null,
            "justify_items": null,
            "left": null,
            "margin": null,
            "max_height": null,
            "max_width": null,
            "min_height": null,
            "min_width": null,
            "object_fit": null,
            "object_position": null,
            "order": null,
            "overflow": null,
            "overflow_x": null,
            "overflow_y": null,
            "padding": null,
            "right": null,
            "top": null,
            "visibility": null,
            "width": null
          }
        },
        "5ec36f79d12f40aab37a00dd2ee76f57": {
          "model_module": "@jupyter-widgets/controls",
          "model_name": "DescriptionStyleModel",
          "model_module_version": "1.5.0",
          "state": {
            "_model_module": "@jupyter-widgets/controls",
            "_model_module_version": "1.5.0",
            "_model_name": "DescriptionStyleModel",
            "_view_count": null,
            "_view_module": "@jupyter-widgets/base",
            "_view_module_version": "1.2.0",
            "_view_name": "StyleView",
            "description_width": ""
          }
        },
        "7f76ae07a13a4f099e815bcad669ab3d": {
          "model_module": "@jupyter-widgets/controls",
          "model_name": "HBoxModel",
          "model_module_version": "1.5.0",
          "state": {
            "_dom_classes": [],
            "_model_module": "@jupyter-widgets/controls",
            "_model_module_version": "1.5.0",
            "_model_name": "HBoxModel",
            "_view_count": null,
            "_view_module": "@jupyter-widgets/controls",
            "_view_module_version": "1.5.0",
            "_view_name": "HBoxView",
            "box_style": "",
            "children": [
              "IPY_MODEL_b07d00b5c92f4c379c8a2d9b66a76184",
              "IPY_MODEL_ecc4c7222b2e4bcaba02e7fd6318859b",
              "IPY_MODEL_03ff84b81ab54767bccdaf9d66c9a8ed"
            ],
            "layout": "IPY_MODEL_d2b45737cab2423e8fb4faf2baf13aed"
          }
        },
        "b07d00b5c92f4c379c8a2d9b66a76184": {
          "model_module": "@jupyter-widgets/controls",
          "model_name": "HTMLModel",
          "model_module_version": "1.5.0",
          "state": {
            "_dom_classes": [],
            "_model_module": "@jupyter-widgets/controls",
            "_model_module_version": "1.5.0",
            "_model_name": "HTMLModel",
            "_view_count": null,
            "_view_module": "@jupyter-widgets/controls",
            "_view_module_version": "1.5.0",
            "_view_name": "HTMLView",
            "description": "",
            "description_tooltip": null,
            "layout": "IPY_MODEL_3da3b384814748329a2920b98538376b",
            "placeholder": "​",
            "style": "IPY_MODEL_6a462ddaff2e45579a9fb7724c76b81c",
            "value": "Map: 100%"
          }
        },
        "ecc4c7222b2e4bcaba02e7fd6318859b": {
          "model_module": "@jupyter-widgets/controls",
          "model_name": "FloatProgressModel",
          "model_module_version": "1.5.0",
          "state": {
            "_dom_classes": [],
            "_model_module": "@jupyter-widgets/controls",
            "_model_module_version": "1.5.0",
            "_model_name": "FloatProgressModel",
            "_view_count": null,
            "_view_module": "@jupyter-widgets/controls",
            "_view_module_version": "1.5.0",
            "_view_name": "ProgressView",
            "bar_style": "success",
            "description": "",
            "description_tooltip": null,
            "layout": "IPY_MODEL_183039177ece436981265be0f974609e",
            "max": 3453,
            "min": 0,
            "orientation": "horizontal",
            "style": "IPY_MODEL_44bd2cf3d6694f01ae6c0d7acc881d47",
            "value": 3453
          }
        },
        "03ff84b81ab54767bccdaf9d66c9a8ed": {
          "model_module": "@jupyter-widgets/controls",
          "model_name": "HTMLModel",
          "model_module_version": "1.5.0",
          "state": {
            "_dom_classes": [],
            "_model_module": "@jupyter-widgets/controls",
            "_model_module_version": "1.5.0",
            "_model_name": "HTMLModel",
            "_view_count": null,
            "_view_module": "@jupyter-widgets/controls",
            "_view_module_version": "1.5.0",
            "_view_name": "HTMLView",
            "description": "",
            "description_tooltip": null,
            "layout": "IPY_MODEL_26854f113d9b44cd8ed3c0d31399db02",
            "placeholder": "​",
            "style": "IPY_MODEL_2d6979a41c6e40f29b9a1a560f3a5ff1",
            "value": " 3453/3453 [00:00&lt;00:00, 7063.23 examples/s]"
          }
        },
        "d2b45737cab2423e8fb4faf2baf13aed": {
          "model_module": "@jupyter-widgets/base",
          "model_name": "LayoutModel",
          "model_module_version": "1.2.0",
          "state": {
            "_model_module": "@jupyter-widgets/base",
            "_model_module_version": "1.2.0",
            "_model_name": "LayoutModel",
            "_view_count": null,
            "_view_module": "@jupyter-widgets/base",
            "_view_module_version": "1.2.0",
            "_view_name": "LayoutView",
            "align_content": null,
            "align_items": null,
            "align_self": null,
            "border": null,
            "bottom": null,
            "display": null,
            "flex": null,
            "flex_flow": null,
            "grid_area": null,
            "grid_auto_columns": null,
            "grid_auto_flow": null,
            "grid_auto_rows": null,
            "grid_column": null,
            "grid_gap": null,
            "grid_row": null,
            "grid_template_areas": null,
            "grid_template_columns": null,
            "grid_template_rows": null,
            "height": null,
            "justify_content": null,
            "justify_items": null,
            "left": null,
            "margin": null,
            "max_height": null,
            "max_width": null,
            "min_height": null,
            "min_width": null,
            "object_fit": null,
            "object_position": null,
            "order": null,
            "overflow": null,
            "overflow_x": null,
            "overflow_y": null,
            "padding": null,
            "right": null,
            "top": null,
            "visibility": null,
            "width": null
          }
        },
        "3da3b384814748329a2920b98538376b": {
          "model_module": "@jupyter-widgets/base",
          "model_name": "LayoutModel",
          "model_module_version": "1.2.0",
          "state": {
            "_model_module": "@jupyter-widgets/base",
            "_model_module_version": "1.2.0",
            "_model_name": "LayoutModel",
            "_view_count": null,
            "_view_module": "@jupyter-widgets/base",
            "_view_module_version": "1.2.0",
            "_view_name": "LayoutView",
            "align_content": null,
            "align_items": null,
            "align_self": null,
            "border": null,
            "bottom": null,
            "display": null,
            "flex": null,
            "flex_flow": null,
            "grid_area": null,
            "grid_auto_columns": null,
            "grid_auto_flow": null,
            "grid_auto_rows": null,
            "grid_column": null,
            "grid_gap": null,
            "grid_row": null,
            "grid_template_areas": null,
            "grid_template_columns": null,
            "grid_template_rows": null,
            "height": null,
            "justify_content": null,
            "justify_items": null,
            "left": null,
            "margin": null,
            "max_height": null,
            "max_width": null,
            "min_height": null,
            "min_width": null,
            "object_fit": null,
            "object_position": null,
            "order": null,
            "overflow": null,
            "overflow_x": null,
            "overflow_y": null,
            "padding": null,
            "right": null,
            "top": null,
            "visibility": null,
            "width": null
          }
        },
        "6a462ddaff2e45579a9fb7724c76b81c": {
          "model_module": "@jupyter-widgets/controls",
          "model_name": "DescriptionStyleModel",
          "model_module_version": "1.5.0",
          "state": {
            "_model_module": "@jupyter-widgets/controls",
            "_model_module_version": "1.5.0",
            "_model_name": "DescriptionStyleModel",
            "_view_count": null,
            "_view_module": "@jupyter-widgets/base",
            "_view_module_version": "1.2.0",
            "_view_name": "StyleView",
            "description_width": ""
          }
        },
        "183039177ece436981265be0f974609e": {
          "model_module": "@jupyter-widgets/base",
          "model_name": "LayoutModel",
          "model_module_version": "1.2.0",
          "state": {
            "_model_module": "@jupyter-widgets/base",
            "_model_module_version": "1.2.0",
            "_model_name": "LayoutModel",
            "_view_count": null,
            "_view_module": "@jupyter-widgets/base",
            "_view_module_version": "1.2.0",
            "_view_name": "LayoutView",
            "align_content": null,
            "align_items": null,
            "align_self": null,
            "border": null,
            "bottom": null,
            "display": null,
            "flex": null,
            "flex_flow": null,
            "grid_area": null,
            "grid_auto_columns": null,
            "grid_auto_flow": null,
            "grid_auto_rows": null,
            "grid_column": null,
            "grid_gap": null,
            "grid_row": null,
            "grid_template_areas": null,
            "grid_template_columns": null,
            "grid_template_rows": null,
            "height": null,
            "justify_content": null,
            "justify_items": null,
            "left": null,
            "margin": null,
            "max_height": null,
            "max_width": null,
            "min_height": null,
            "min_width": null,
            "object_fit": null,
            "object_position": null,
            "order": null,
            "overflow": null,
            "overflow_x": null,
            "overflow_y": null,
            "padding": null,
            "right": null,
            "top": null,
            "visibility": null,
            "width": null
          }
        },
        "44bd2cf3d6694f01ae6c0d7acc881d47": {
          "model_module": "@jupyter-widgets/controls",
          "model_name": "ProgressStyleModel",
          "model_module_version": "1.5.0",
          "state": {
            "_model_module": "@jupyter-widgets/controls",
            "_model_module_version": "1.5.0",
            "_model_name": "ProgressStyleModel",
            "_view_count": null,
            "_view_module": "@jupyter-widgets/base",
            "_view_module_version": "1.2.0",
            "_view_name": "StyleView",
            "bar_color": null,
            "description_width": ""
          }
        },
        "26854f113d9b44cd8ed3c0d31399db02": {
          "model_module": "@jupyter-widgets/base",
          "model_name": "LayoutModel",
          "model_module_version": "1.2.0",
          "state": {
            "_model_module": "@jupyter-widgets/base",
            "_model_module_version": "1.2.0",
            "_model_name": "LayoutModel",
            "_view_count": null,
            "_view_module": "@jupyter-widgets/base",
            "_view_module_version": "1.2.0",
            "_view_name": "LayoutView",
            "align_content": null,
            "align_items": null,
            "align_self": null,
            "border": null,
            "bottom": null,
            "display": null,
            "flex": null,
            "flex_flow": null,
            "grid_area": null,
            "grid_auto_columns": null,
            "grid_auto_flow": null,
            "grid_auto_rows": null,
            "grid_column": null,
            "grid_gap": null,
            "grid_row": null,
            "grid_template_areas": null,
            "grid_template_columns": null,
            "grid_template_rows": null,
            "height": null,
            "justify_content": null,
            "justify_items": null,
            "left": null,
            "margin": null,
            "max_height": null,
            "max_width": null,
            "min_height": null,
            "min_width": null,
            "object_fit": null,
            "object_position": null,
            "order": null,
            "overflow": null,
            "overflow_x": null,
            "overflow_y": null,
            "padding": null,
            "right": null,
            "top": null,
            "visibility": null,
            "width": null
          }
        },
        "2d6979a41c6e40f29b9a1a560f3a5ff1": {
          "model_module": "@jupyter-widgets/controls",
          "model_name": "DescriptionStyleModel",
          "model_module_version": "1.5.0",
          "state": {
            "_model_module": "@jupyter-widgets/controls",
            "_model_module_version": "1.5.0",
            "_model_name": "DescriptionStyleModel",
            "_view_count": null,
            "_view_module": "@jupyter-widgets/base",
            "_view_module_version": "1.2.0",
            "_view_name": "StyleView",
            "description_width": ""
          }
        }
      }
    }
  },
  "cells": [
    {
      "cell_type": "code",
      "source": [
        "!pip install transformers datasets tokenizers seqeval -q"
      ],
      "metadata": {
        "id": "nExwwXrjf_DC"
      },
      "execution_count": 45,
      "outputs": []
    },
    {
      "cell_type": "code",
      "source": [
        "import math\n",
        "from typing import List, Tuple\n",
        "import torch\n",
        "import torch.nn as nn\n",
        "import torch.nn.functional as F\n",
        "from datasets import load_dataset, load_metric\n",
        "import numpy as np\n",
        "from transformers import BertTokenizerFast\n",
        "from transformers import DataCollatorForTokenClassification\n",
        "from transformers import AutoModelForTokenClassification\n",
        "from transformers import Trainer, TrainingArguments"
      ],
      "metadata": {
        "id": "FAU8soOGf5gZ"
      },
      "execution_count": 69,
      "outputs": []
    },
    {
      "cell_type": "code",
      "source": [
        "datasets = load_dataset(\"conll2003\")"
      ],
      "metadata": {
        "id": "bgDIKyt-uRd5"
      },
      "execution_count": 47,
      "outputs": []
    },
    {
      "cell_type": "code",
      "source": [
        "datasets"
      ],
      "metadata": {
        "colab": {
          "base_uri": "https://localhost:8080/"
        },
        "id": "mlQeCBqVuUi3",
        "outputId": "3182458b-32d3-4585-f556-b98c706b26d3"
      },
      "execution_count": 48,
      "outputs": [
        {
          "output_type": "execute_result",
          "data": {
            "text/plain": [
              "DatasetDict({\n",
              "    train: Dataset({\n",
              "        features: ['id', 'tokens', 'pos_tags', 'chunk_tags', 'ner_tags'],\n",
              "        num_rows: 14041\n",
              "    })\n",
              "    validation: Dataset({\n",
              "        features: ['id', 'tokens', 'pos_tags', 'chunk_tags', 'ner_tags'],\n",
              "        num_rows: 3250\n",
              "    })\n",
              "    test: Dataset({\n",
              "        features: ['id', 'tokens', 'pos_tags', 'chunk_tags', 'ner_tags'],\n",
              "        num_rows: 3453\n",
              "    })\n",
              "})"
            ]
          },
          "metadata": {},
          "execution_count": 48
        }
      ]
    },
    {
      "cell_type": "code",
      "source": [
        "datasets.shape"
      ],
      "metadata": {
        "colab": {
          "base_uri": "https://localhost:8080/"
        },
        "id": "R2lZSGmR11GC",
        "outputId": "ca5729fe-68bc-48d3-da93-ec7399612907"
      },
      "execution_count": 50,
      "outputs": [
        {
          "output_type": "execute_result",
          "data": {
            "text/plain": [
              "{'train': (14041, 5), 'validation': (3250, 5), 'test': (3453, 5)}"
            ]
          },
          "metadata": {},
          "execution_count": 50
        }
      ]
    },
    {
      "cell_type": "code",
      "source": [
        "datasets[\"train\"][0]"
      ],
      "metadata": {
        "colab": {
          "base_uri": "https://localhost:8080/"
        },
        "id": "juvfjSdG13DQ",
        "outputId": "4d80ff3a-93a3-4d03-fef2-825981d961f4"
      },
      "execution_count": 51,
      "outputs": [
        {
          "output_type": "execute_result",
          "data": {
            "text/plain": [
              "{'id': '0',\n",
              " 'tokens': ['EU',\n",
              "  'rejects',\n",
              "  'German',\n",
              "  'call',\n",
              "  'to',\n",
              "  'boycott',\n",
              "  'British',\n",
              "  'lamb',\n",
              "  '.'],\n",
              " 'pos_tags': [22, 42, 16, 21, 35, 37, 16, 21, 7],\n",
              " 'chunk_tags': [11, 21, 11, 12, 21, 22, 11, 12, 0],\n",
              " 'ner_tags': [3, 0, 7, 0, 0, 0, 7, 0, 0]}"
            ]
          },
          "metadata": {},
          "execution_count": 51
        }
      ]
    },
    {
      "cell_type": "code",
      "source": [
        "datasets[\"train\"][0][\"tokens\"]"
      ],
      "metadata": {
        "colab": {
          "base_uri": "https://localhost:8080/"
        },
        "id": "QroIyEQl1-MD",
        "outputId": "2c85a004-a0a3-4b92-926d-16ed0577c852"
      },
      "execution_count": 52,
      "outputs": [
        {
          "output_type": "execute_result",
          "data": {
            "text/plain": [
              "['EU', 'rejects', 'German', 'call', 'to', 'boycott', 'British', 'lamb', '.']"
            ]
          },
          "metadata": {},
          "execution_count": 52
        }
      ]
    },
    {
      "cell_type": "code",
      "source": [
        "datasets[\"train\"].features[f\"ner_tags\"]"
      ],
      "metadata": {
        "colab": {
          "base_uri": "https://localhost:8080/"
        },
        "id": "Llh55Ku6un1z",
        "outputId": "e52310ec-b897-47f9-fd47-42ac9bbe3164"
      },
      "execution_count": 53,
      "outputs": [
        {
          "output_type": "execute_result",
          "data": {
            "text/plain": [
              "Sequence(feature=ClassLabel(names=['O', 'B-PER', 'I-PER', 'B-ORG', 'I-ORG', 'B-LOC', 'I-LOC', 'B-MISC', 'I-MISC'], id=None), length=-1, id=None)"
            ]
          },
          "metadata": {},
          "execution_count": 53
        }
      ]
    },
    {
      "cell_type": "code",
      "source": [
        "label_list = datasets[\"train\"].features[f\"ner_tags\"].feature.names\n",
        "label_list"
      ],
      "metadata": {
        "colab": {
          "base_uri": "https://localhost:8080/"
        },
        "id": "-CA7xnybup2I",
        "outputId": "a98d02c2-cfa8-40eb-ac38-96c057ebbdee"
      },
      "execution_count": 54,
      "outputs": [
        {
          "output_type": "execute_result",
          "data": {
            "text/plain": [
              "['O', 'B-PER', 'I-PER', 'B-ORG', 'I-ORG', 'B-LOC', 'I-LOC', 'B-MISC', 'I-MISC']"
            ]
          },
          "metadata": {},
          "execution_count": 54
        }
      ]
    },
    {
      "cell_type": "code",
      "source": [
        "tokenizer = BertTokenizerFast.from_pretrained(\"distilbert-base-uncased\")"
      ],
      "metadata": {
        "colab": {
          "base_uri": "https://localhost:8080/"
        },
        "id": "geQ99xtW2D5Z",
        "outputId": "34b0bd6d-9504-400b-d6ce-1173844de1ad"
      },
      "execution_count": 55,
      "outputs": [
        {
          "output_type": "stream",
          "name": "stderr",
          "text": [
            "The tokenizer class you load from this checkpoint is not the same type as the class this function is called from. It may result in unexpected tokenization. \n",
            "The tokenizer class you load from this checkpoint is 'DistilBertTokenizer'. \n",
            "The class this function is called from is 'BertTokenizerFast'.\n"
          ]
        }
      ]
    },
    {
      "cell_type": "code",
      "source": [
        "def tokenize_and_align_labels(examples, label_all_tokens = True):\n",
        "  tokenized_inputs = tokenizer(examples[\"tokens\"],truncation = True, is_split_into_words = True)\n",
        "  labels = []\n",
        "\n",
        "  for i,label in enumerate(examples[\"ner_tags\"]):\n",
        "    word_ids = tokenized_inputs.word_ids(batch_index = i)\n",
        "\n",
        "    previous_word_idx = None\n",
        "    label_ids = []\n",
        "\n",
        "    for word_idx in word_ids:\n",
        "      if word_idx is None:\n",
        "        label_ids.append(-100)\n",
        "\n",
        "      elif word_idx != previous_word_idx:\n",
        "        label_ids.append(label[word_idx])\n",
        "\n",
        "      else:\n",
        "        label_ids.append(label[word_idx] if label_all_tokens else -100)\n",
        "\n",
        "      previous_word_idx = word_idx\n",
        "    labels.append(label_ids)\n",
        "  tokenized_inputs[\"labels\"] = labels\n",
        "  return tokenized_inputs"
      ],
      "metadata": {
        "id": "2kZhdwxh2MYD"
      },
      "execution_count": 56,
      "outputs": []
    },
    {
      "cell_type": "code",
      "source": [
        "x = tokenize_and_align_labels(datasets['train'][0:3])\n",
        "print(x)"
      ],
      "metadata": {
        "colab": {
          "base_uri": "https://localhost:8080/"
        },
        "id": "6IZyrgZ22QfG",
        "outputId": "8fe4811e-039f-44fd-a19d-e30e57d02aa5"
      },
      "execution_count": 58,
      "outputs": [
        {
          "output_type": "stream",
          "name": "stdout",
          "text": [
            "{'input_ids': [[101, 7327, 19164, 2446, 2655, 2000, 17757, 2329, 12559, 1012, 102], [101, 2848, 13934, 102], [101, 9371, 2727, 1011, 5511, 1011, 2570, 102]], 'token_type_ids': [[0, 0, 0, 0, 0, 0, 0, 0, 0, 0, 0], [0, 0, 0, 0], [0, 0, 0, 0, 0, 0, 0, 0]], 'attention_mask': [[1, 1, 1, 1, 1, 1, 1, 1, 1, 1, 1], [1, 1, 1, 1], [1, 1, 1, 1, 1, 1, 1, 1]], 'labels': [[-100, 3, 0, 7, 0, 0, 0, 7, 0, 0, -100], [-100, 1, 2, -100], [-100, 5, 0, 0, 0, 0, 0, -100]]}\n"
          ]
        }
      ]
    },
    {
      "cell_type": "code",
      "source": [
        "for token, label in zip(tokenizer.convert_ids_to_tokens(x[\"input_ids\"][0]),x[\"labels\"][0]):\n",
        "    print(f\"{token:_<20} {label}\")"
      ],
      "metadata": {
        "colab": {
          "base_uri": "https://localhost:8080/"
        },
        "id": "r63AymNd2SXJ",
        "outputId": "7d6c09bc-302f-467c-be87-78705ea1cc3e"
      },
      "execution_count": 59,
      "outputs": [
        {
          "output_type": "stream",
          "name": "stdout",
          "text": [
            "[CLS]_______________ -100\n",
            "eu__________________ 3\n",
            "rejects_____________ 0\n",
            "german______________ 7\n",
            "call________________ 0\n",
            "to__________________ 0\n",
            "boycott_____________ 0\n",
            "british_____________ 7\n",
            "lamb________________ 0\n",
            ".___________________ 0\n",
            "[SEP]_______________ -100\n"
          ]
        }
      ]
    },
    {
      "cell_type": "code",
      "source": [
        "tokenized_datasets = datasets.map(tokenize_and_align_labels, batched=True)"
      ],
      "metadata": {
        "colab": {
          "base_uri": "https://localhost:8080/",
          "height": 113,
          "referenced_widgets": [
            "1e42347f16fe434f8834835d6be21228",
            "9dd49fa8d3124036a113d205c2047429",
            "eea3eeb8ffe04e25abdffedd682a863f",
            "b986b2cc9ecb4bbd9fb5637bc90d9eb1",
            "f0584928c16e401bb9cccedb03ce03be",
            "5adb5dfd24434819b921aecd07df2a0f",
            "b917076f5f7041378f5806a4dbe97c27",
            "76dd249d57464b5886fb72be11e6958b",
            "a961b04989794e43875b564b6a23f398",
            "fa58f2bf0f55468b803541e20b8d50b8",
            "87bcec520f7644c6aab8e782917429a7",
            "b9eefae8618f4ab0b0445d09d8f5fd96",
            "01cdaffff97a4161b58780ad73ea6dc9",
            "bfb53ef9b6cf4a579546a44d5f6ca0b3",
            "5df59d5eeb634c3fa3912f3a781c45b6",
            "95864936918649eba1abac29c8a7dd24",
            "4736573631d548bd9e451c726b9d2a0a",
            "9b22cf29eb824b898986cbef68430823",
            "97ce70d681f141b18e65035f749018e0",
            "687811c11acf4cb18ea7b2986ffb0855",
            "ad7d883952c748f495ffc3204f4d2167",
            "5ec36f79d12f40aab37a00dd2ee76f57",
            "7f76ae07a13a4f099e815bcad669ab3d",
            "b07d00b5c92f4c379c8a2d9b66a76184",
            "ecc4c7222b2e4bcaba02e7fd6318859b",
            "03ff84b81ab54767bccdaf9d66c9a8ed",
            "d2b45737cab2423e8fb4faf2baf13aed",
            "3da3b384814748329a2920b98538376b",
            "6a462ddaff2e45579a9fb7724c76b81c",
            "183039177ece436981265be0f974609e",
            "44bd2cf3d6694f01ae6c0d7acc881d47",
            "26854f113d9b44cd8ed3c0d31399db02",
            "2d6979a41c6e40f29b9a1a560f3a5ff1"
          ]
        },
        "id": "FBL5LgWN2ZlH",
        "outputId": "5700ed7e-1a44-4596-a6c0-e6a102dabc45"
      },
      "execution_count": 60,
      "outputs": [
        {
          "output_type": "display_data",
          "data": {
            "text/plain": [
              "Map:   0%|          | 0/14041 [00:00<?, ? examples/s]"
            ],
            "application/vnd.jupyter.widget-view+json": {
              "version_major": 2,
              "version_minor": 0,
              "model_id": "1e42347f16fe434f8834835d6be21228"
            }
          },
          "metadata": {}
        },
        {
          "output_type": "display_data",
          "data": {
            "text/plain": [
              "Map:   0%|          | 0/3250 [00:00<?, ? examples/s]"
            ],
            "application/vnd.jupyter.widget-view+json": {
              "version_major": 2,
              "version_minor": 0,
              "model_id": "b9eefae8618f4ab0b0445d09d8f5fd96"
            }
          },
          "metadata": {}
        },
        {
          "output_type": "display_data",
          "data": {
            "text/plain": [
              "Map:   0%|          | 0/3453 [00:00<?, ? examples/s]"
            ],
            "application/vnd.jupyter.widget-view+json": {
              "version_major": 2,
              "version_minor": 0,
              "model_id": "7f76ae07a13a4f099e815bcad669ab3d"
            }
          },
          "metadata": {}
        }
      ]
    },
    {
      "cell_type": "code",
      "source": [
        "tokenized_datasets['train'][0]"
      ],
      "metadata": {
        "colab": {
          "base_uri": "https://localhost:8080/"
        },
        "id": "VO2xmi7i2epX",
        "outputId": "78674f0f-31df-40a7-fb02-c59ae4d752f1"
      },
      "execution_count": 61,
      "outputs": [
        {
          "output_type": "execute_result",
          "data": {
            "text/plain": [
              "{'id': '0',\n",
              " 'tokens': ['EU',\n",
              "  'rejects',\n",
              "  'German',\n",
              "  'call',\n",
              "  'to',\n",
              "  'boycott',\n",
              "  'British',\n",
              "  'lamb',\n",
              "  '.'],\n",
              " 'pos_tags': [22, 42, 16, 21, 35, 37, 16, 21, 7],\n",
              " 'chunk_tags': [11, 21, 11, 12, 21, 22, 11, 12, 0],\n",
              " 'ner_tags': [3, 0, 7, 0, 0, 0, 7, 0, 0],\n",
              " 'input_ids': [101,\n",
              "  7327,\n",
              "  19164,\n",
              "  2446,\n",
              "  2655,\n",
              "  2000,\n",
              "  17757,\n",
              "  2329,\n",
              "  12559,\n",
              "  1012,\n",
              "  102],\n",
              " 'token_type_ids': [0, 0, 0, 0, 0, 0, 0, 0, 0, 0, 0],\n",
              " 'attention_mask': [1, 1, 1, 1, 1, 1, 1, 1, 1, 1, 1],\n",
              " 'labels': [-100, 3, 0, 7, 0, 0, 0, 7, 0, 0, -100]}"
            ]
          },
          "metadata": {},
          "execution_count": 61
        }
      ]
    },
    {
      "cell_type": "code",
      "source": [
        "model = AutoModelForTokenClassification.from_pretrained(\"distilbert-base-uncased\", num_labels=9)"
      ],
      "metadata": {
        "colab": {
          "base_uri": "https://localhost:8080/"
        },
        "id": "mjvgR8ppgM1V",
        "outputId": "c2811f9e-a8eb-4ffd-9aee-3c39b7564c4e"
      },
      "execution_count": 95,
      "outputs": [
        {
          "output_type": "stream",
          "name": "stderr",
          "text": [
            "Some weights of DistilBertForTokenClassification were not initialized from the model checkpoint at distilbert-base-uncased and are newly initialized: ['classifier.bias', 'classifier.weight']\n",
            "You should probably TRAIN this model on a down-stream task to be able to use it for predictions and inference.\n"
          ]
        }
      ]
    },
    {
      "cell_type": "code",
      "source": [
        "model"
      ],
      "metadata": {
        "colab": {
          "base_uri": "https://localhost:8080/"
        },
        "id": "2_qJlhI4gogu",
        "outputId": "34034df9-58e2-406a-c1bd-24d0ecd1b734"
      },
      "execution_count": 96,
      "outputs": [
        {
          "output_type": "execute_result",
          "data": {
            "text/plain": [
              "DistilBertForTokenClassification(\n",
              "  (distilbert): DistilBertModel(\n",
              "    (embeddings): Embeddings(\n",
              "      (word_embeddings): Embedding(30522, 768, padding_idx=0)\n",
              "      (position_embeddings): Embedding(512, 768)\n",
              "      (LayerNorm): LayerNorm((768,), eps=1e-12, elementwise_affine=True)\n",
              "      (dropout): Dropout(p=0.1, inplace=False)\n",
              "    )\n",
              "    (transformer): Transformer(\n",
              "      (layer): ModuleList(\n",
              "        (0-5): 6 x TransformerBlock(\n",
              "          (attention): MultiHeadSelfAttention(\n",
              "            (dropout): Dropout(p=0.1, inplace=False)\n",
              "            (q_lin): Linear(in_features=768, out_features=768, bias=True)\n",
              "            (k_lin): Linear(in_features=768, out_features=768, bias=True)\n",
              "            (v_lin): Linear(in_features=768, out_features=768, bias=True)\n",
              "            (out_lin): Linear(in_features=768, out_features=768, bias=True)\n",
              "          )\n",
              "          (sa_layer_norm): LayerNorm((768,), eps=1e-12, elementwise_affine=True)\n",
              "          (ffn): FFN(\n",
              "            (dropout): Dropout(p=0.1, inplace=False)\n",
              "            (lin1): Linear(in_features=768, out_features=3072, bias=True)\n",
              "            (lin2): Linear(in_features=3072, out_features=768, bias=True)\n",
              "            (activation): GELUActivation()\n",
              "          )\n",
              "          (output_layer_norm): LayerNorm((768,), eps=1e-12, elementwise_affine=True)\n",
              "        )\n",
              "      )\n",
              "    )\n",
              "  )\n",
              "  (dropout): Dropout(p=0.1, inplace=False)\n",
              "  (classifier): Linear(in_features=768, out_features=9, bias=True)\n",
              ")"
            ]
          },
          "metadata": {},
          "execution_count": 96
        }
      ]
    },
    {
      "cell_type": "code",
      "source": [
        "model.config"
      ],
      "metadata": {
        "colab": {
          "base_uri": "https://localhost:8080/"
        },
        "id": "aDlhRODIipaN",
        "outputId": "14e928ff-af39-43a0-e73b-cdf5c025ef1a"
      },
      "execution_count": 97,
      "outputs": [
        {
          "output_type": "execute_result",
          "data": {
            "text/plain": [
              "DistilBertConfig {\n",
              "  \"_name_or_path\": \"distilbert-base-uncased\",\n",
              "  \"activation\": \"gelu\",\n",
              "  \"architectures\": [\n",
              "    \"DistilBertForMaskedLM\"\n",
              "  ],\n",
              "  \"attention_dropout\": 0.1,\n",
              "  \"dim\": 768,\n",
              "  \"dropout\": 0.1,\n",
              "  \"hidden_dim\": 3072,\n",
              "  \"id2label\": {\n",
              "    \"0\": \"LABEL_0\",\n",
              "    \"1\": \"LABEL_1\",\n",
              "    \"2\": \"LABEL_2\",\n",
              "    \"3\": \"LABEL_3\",\n",
              "    \"4\": \"LABEL_4\",\n",
              "    \"5\": \"LABEL_5\",\n",
              "    \"6\": \"LABEL_6\",\n",
              "    \"7\": \"LABEL_7\",\n",
              "    \"8\": \"LABEL_8\"\n",
              "  },\n",
              "  \"initializer_range\": 0.02,\n",
              "  \"label2id\": {\n",
              "    \"LABEL_0\": 0,\n",
              "    \"LABEL_1\": 1,\n",
              "    \"LABEL_2\": 2,\n",
              "    \"LABEL_3\": 3,\n",
              "    \"LABEL_4\": 4,\n",
              "    \"LABEL_5\": 5,\n",
              "    \"LABEL_6\": 6,\n",
              "    \"LABEL_7\": 7,\n",
              "    \"LABEL_8\": 8\n",
              "  },\n",
              "  \"max_position_embeddings\": 512,\n",
              "  \"model_type\": \"distilbert\",\n",
              "  \"n_heads\": 12,\n",
              "  \"n_layers\": 6,\n",
              "  \"pad_token_id\": 0,\n",
              "  \"qa_dropout\": 0.1,\n",
              "  \"seq_classif_dropout\": 0.2,\n",
              "  \"sinusoidal_pos_embds\": false,\n",
              "  \"tie_weights_\": true,\n",
              "  \"transformers_version\": \"4.42.4\",\n",
              "  \"vocab_size\": 30522\n",
              "}"
            ]
          },
          "metadata": {},
          "execution_count": 97
        }
      ]
    },
    {
      "cell_type": "code",
      "source": [
        "m = 0\n",
        "for module in model.modules():\n",
        "  # print(name)\n",
        "  print(module)\n",
        "  print(\"-------------------------------------------\")\n",
        "  m+=1\n",
        "print(m)"
      ],
      "metadata": {
        "colab": {
          "base_uri": "https://localhost:8080/"
        },
        "id": "rBgxDM7jiwTC",
        "outputId": "53139e11-517f-44e7-f39b-7adaa3bf296d"
      },
      "execution_count": 98,
      "outputs": [
        {
          "output_type": "stream",
          "name": "stdout",
          "text": [
            "DistilBertForTokenClassification(\n",
            "  (distilbert): DistilBertModel(\n",
            "    (embeddings): Embeddings(\n",
            "      (word_embeddings): Embedding(30522, 768, padding_idx=0)\n",
            "      (position_embeddings): Embedding(512, 768)\n",
            "      (LayerNorm): LayerNorm((768,), eps=1e-12, elementwise_affine=True)\n",
            "      (dropout): Dropout(p=0.1, inplace=False)\n",
            "    )\n",
            "    (transformer): Transformer(\n",
            "      (layer): ModuleList(\n",
            "        (0-5): 6 x TransformerBlock(\n",
            "          (attention): MultiHeadSelfAttention(\n",
            "            (dropout): Dropout(p=0.1, inplace=False)\n",
            "            (q_lin): Linear(in_features=768, out_features=768, bias=True)\n",
            "            (k_lin): Linear(in_features=768, out_features=768, bias=True)\n",
            "            (v_lin): Linear(in_features=768, out_features=768, bias=True)\n",
            "            (out_lin): Linear(in_features=768, out_features=768, bias=True)\n",
            "          )\n",
            "          (sa_layer_norm): LayerNorm((768,), eps=1e-12, elementwise_affine=True)\n",
            "          (ffn): FFN(\n",
            "            (dropout): Dropout(p=0.1, inplace=False)\n",
            "            (lin1): Linear(in_features=768, out_features=3072, bias=True)\n",
            "            (lin2): Linear(in_features=3072, out_features=768, bias=True)\n",
            "            (activation): GELUActivation()\n",
            "          )\n",
            "          (output_layer_norm): LayerNorm((768,), eps=1e-12, elementwise_affine=True)\n",
            "        )\n",
            "      )\n",
            "    )\n",
            "  )\n",
            "  (dropout): Dropout(p=0.1, inplace=False)\n",
            "  (classifier): Linear(in_features=768, out_features=9, bias=True)\n",
            ")\n",
            "-------------------------------------------\n",
            "DistilBertModel(\n",
            "  (embeddings): Embeddings(\n",
            "    (word_embeddings): Embedding(30522, 768, padding_idx=0)\n",
            "    (position_embeddings): Embedding(512, 768)\n",
            "    (LayerNorm): LayerNorm((768,), eps=1e-12, elementwise_affine=True)\n",
            "    (dropout): Dropout(p=0.1, inplace=False)\n",
            "  )\n",
            "  (transformer): Transformer(\n",
            "    (layer): ModuleList(\n",
            "      (0-5): 6 x TransformerBlock(\n",
            "        (attention): MultiHeadSelfAttention(\n",
            "          (dropout): Dropout(p=0.1, inplace=False)\n",
            "          (q_lin): Linear(in_features=768, out_features=768, bias=True)\n",
            "          (k_lin): Linear(in_features=768, out_features=768, bias=True)\n",
            "          (v_lin): Linear(in_features=768, out_features=768, bias=True)\n",
            "          (out_lin): Linear(in_features=768, out_features=768, bias=True)\n",
            "        )\n",
            "        (sa_layer_norm): LayerNorm((768,), eps=1e-12, elementwise_affine=True)\n",
            "        (ffn): FFN(\n",
            "          (dropout): Dropout(p=0.1, inplace=False)\n",
            "          (lin1): Linear(in_features=768, out_features=3072, bias=True)\n",
            "          (lin2): Linear(in_features=3072, out_features=768, bias=True)\n",
            "          (activation): GELUActivation()\n",
            "        )\n",
            "        (output_layer_norm): LayerNorm((768,), eps=1e-12, elementwise_affine=True)\n",
            "      )\n",
            "    )\n",
            "  )\n",
            ")\n",
            "-------------------------------------------\n",
            "Embeddings(\n",
            "  (word_embeddings): Embedding(30522, 768, padding_idx=0)\n",
            "  (position_embeddings): Embedding(512, 768)\n",
            "  (LayerNorm): LayerNorm((768,), eps=1e-12, elementwise_affine=True)\n",
            "  (dropout): Dropout(p=0.1, inplace=False)\n",
            ")\n",
            "-------------------------------------------\n",
            "Embedding(30522, 768, padding_idx=0)\n",
            "-------------------------------------------\n",
            "Embedding(512, 768)\n",
            "-------------------------------------------\n",
            "LayerNorm((768,), eps=1e-12, elementwise_affine=True)\n",
            "-------------------------------------------\n",
            "Dropout(p=0.1, inplace=False)\n",
            "-------------------------------------------\n",
            "Transformer(\n",
            "  (layer): ModuleList(\n",
            "    (0-5): 6 x TransformerBlock(\n",
            "      (attention): MultiHeadSelfAttention(\n",
            "        (dropout): Dropout(p=0.1, inplace=False)\n",
            "        (q_lin): Linear(in_features=768, out_features=768, bias=True)\n",
            "        (k_lin): Linear(in_features=768, out_features=768, bias=True)\n",
            "        (v_lin): Linear(in_features=768, out_features=768, bias=True)\n",
            "        (out_lin): Linear(in_features=768, out_features=768, bias=True)\n",
            "      )\n",
            "      (sa_layer_norm): LayerNorm((768,), eps=1e-12, elementwise_affine=True)\n",
            "      (ffn): FFN(\n",
            "        (dropout): Dropout(p=0.1, inplace=False)\n",
            "        (lin1): Linear(in_features=768, out_features=3072, bias=True)\n",
            "        (lin2): Linear(in_features=3072, out_features=768, bias=True)\n",
            "        (activation): GELUActivation()\n",
            "      )\n",
            "      (output_layer_norm): LayerNorm((768,), eps=1e-12, elementwise_affine=True)\n",
            "    )\n",
            "  )\n",
            ")\n",
            "-------------------------------------------\n",
            "ModuleList(\n",
            "  (0-5): 6 x TransformerBlock(\n",
            "    (attention): MultiHeadSelfAttention(\n",
            "      (dropout): Dropout(p=0.1, inplace=False)\n",
            "      (q_lin): Linear(in_features=768, out_features=768, bias=True)\n",
            "      (k_lin): Linear(in_features=768, out_features=768, bias=True)\n",
            "      (v_lin): Linear(in_features=768, out_features=768, bias=True)\n",
            "      (out_lin): Linear(in_features=768, out_features=768, bias=True)\n",
            "    )\n",
            "    (sa_layer_norm): LayerNorm((768,), eps=1e-12, elementwise_affine=True)\n",
            "    (ffn): FFN(\n",
            "      (dropout): Dropout(p=0.1, inplace=False)\n",
            "      (lin1): Linear(in_features=768, out_features=3072, bias=True)\n",
            "      (lin2): Linear(in_features=3072, out_features=768, bias=True)\n",
            "      (activation): GELUActivation()\n",
            "    )\n",
            "    (output_layer_norm): LayerNorm((768,), eps=1e-12, elementwise_affine=True)\n",
            "  )\n",
            ")\n",
            "-------------------------------------------\n",
            "TransformerBlock(\n",
            "  (attention): MultiHeadSelfAttention(\n",
            "    (dropout): Dropout(p=0.1, inplace=False)\n",
            "    (q_lin): Linear(in_features=768, out_features=768, bias=True)\n",
            "    (k_lin): Linear(in_features=768, out_features=768, bias=True)\n",
            "    (v_lin): Linear(in_features=768, out_features=768, bias=True)\n",
            "    (out_lin): Linear(in_features=768, out_features=768, bias=True)\n",
            "  )\n",
            "  (sa_layer_norm): LayerNorm((768,), eps=1e-12, elementwise_affine=True)\n",
            "  (ffn): FFN(\n",
            "    (dropout): Dropout(p=0.1, inplace=False)\n",
            "    (lin1): Linear(in_features=768, out_features=3072, bias=True)\n",
            "    (lin2): Linear(in_features=3072, out_features=768, bias=True)\n",
            "    (activation): GELUActivation()\n",
            "  )\n",
            "  (output_layer_norm): LayerNorm((768,), eps=1e-12, elementwise_affine=True)\n",
            ")\n",
            "-------------------------------------------\n",
            "MultiHeadSelfAttention(\n",
            "  (dropout): Dropout(p=0.1, inplace=False)\n",
            "  (q_lin): Linear(in_features=768, out_features=768, bias=True)\n",
            "  (k_lin): Linear(in_features=768, out_features=768, bias=True)\n",
            "  (v_lin): Linear(in_features=768, out_features=768, bias=True)\n",
            "  (out_lin): Linear(in_features=768, out_features=768, bias=True)\n",
            ")\n",
            "-------------------------------------------\n",
            "Dropout(p=0.1, inplace=False)\n",
            "-------------------------------------------\n",
            "Linear(in_features=768, out_features=768, bias=True)\n",
            "-------------------------------------------\n",
            "Linear(in_features=768, out_features=768, bias=True)\n",
            "-------------------------------------------\n",
            "Linear(in_features=768, out_features=768, bias=True)\n",
            "-------------------------------------------\n",
            "Linear(in_features=768, out_features=768, bias=True)\n",
            "-------------------------------------------\n",
            "LayerNorm((768,), eps=1e-12, elementwise_affine=True)\n",
            "-------------------------------------------\n",
            "FFN(\n",
            "  (dropout): Dropout(p=0.1, inplace=False)\n",
            "  (lin1): Linear(in_features=768, out_features=3072, bias=True)\n",
            "  (lin2): Linear(in_features=3072, out_features=768, bias=True)\n",
            "  (activation): GELUActivation()\n",
            ")\n",
            "-------------------------------------------\n",
            "Dropout(p=0.1, inplace=False)\n",
            "-------------------------------------------\n",
            "Linear(in_features=768, out_features=3072, bias=True)\n",
            "-------------------------------------------\n",
            "Linear(in_features=3072, out_features=768, bias=True)\n",
            "-------------------------------------------\n",
            "GELUActivation()\n",
            "-------------------------------------------\n",
            "LayerNorm((768,), eps=1e-12, elementwise_affine=True)\n",
            "-------------------------------------------\n",
            "TransformerBlock(\n",
            "  (attention): MultiHeadSelfAttention(\n",
            "    (dropout): Dropout(p=0.1, inplace=False)\n",
            "    (q_lin): Linear(in_features=768, out_features=768, bias=True)\n",
            "    (k_lin): Linear(in_features=768, out_features=768, bias=True)\n",
            "    (v_lin): Linear(in_features=768, out_features=768, bias=True)\n",
            "    (out_lin): Linear(in_features=768, out_features=768, bias=True)\n",
            "  )\n",
            "  (sa_layer_norm): LayerNorm((768,), eps=1e-12, elementwise_affine=True)\n",
            "  (ffn): FFN(\n",
            "    (dropout): Dropout(p=0.1, inplace=False)\n",
            "    (lin1): Linear(in_features=768, out_features=3072, bias=True)\n",
            "    (lin2): Linear(in_features=3072, out_features=768, bias=True)\n",
            "    (activation): GELUActivation()\n",
            "  )\n",
            "  (output_layer_norm): LayerNorm((768,), eps=1e-12, elementwise_affine=True)\n",
            ")\n",
            "-------------------------------------------\n",
            "MultiHeadSelfAttention(\n",
            "  (dropout): Dropout(p=0.1, inplace=False)\n",
            "  (q_lin): Linear(in_features=768, out_features=768, bias=True)\n",
            "  (k_lin): Linear(in_features=768, out_features=768, bias=True)\n",
            "  (v_lin): Linear(in_features=768, out_features=768, bias=True)\n",
            "  (out_lin): Linear(in_features=768, out_features=768, bias=True)\n",
            ")\n",
            "-------------------------------------------\n",
            "Dropout(p=0.1, inplace=False)\n",
            "-------------------------------------------\n",
            "Linear(in_features=768, out_features=768, bias=True)\n",
            "-------------------------------------------\n",
            "Linear(in_features=768, out_features=768, bias=True)\n",
            "-------------------------------------------\n",
            "Linear(in_features=768, out_features=768, bias=True)\n",
            "-------------------------------------------\n",
            "Linear(in_features=768, out_features=768, bias=True)\n",
            "-------------------------------------------\n",
            "LayerNorm((768,), eps=1e-12, elementwise_affine=True)\n",
            "-------------------------------------------\n",
            "FFN(\n",
            "  (dropout): Dropout(p=0.1, inplace=False)\n",
            "  (lin1): Linear(in_features=768, out_features=3072, bias=True)\n",
            "  (lin2): Linear(in_features=3072, out_features=768, bias=True)\n",
            "  (activation): GELUActivation()\n",
            ")\n",
            "-------------------------------------------\n",
            "Dropout(p=0.1, inplace=False)\n",
            "-------------------------------------------\n",
            "Linear(in_features=768, out_features=3072, bias=True)\n",
            "-------------------------------------------\n",
            "Linear(in_features=3072, out_features=768, bias=True)\n",
            "-------------------------------------------\n",
            "GELUActivation()\n",
            "-------------------------------------------\n",
            "LayerNorm((768,), eps=1e-12, elementwise_affine=True)\n",
            "-------------------------------------------\n",
            "TransformerBlock(\n",
            "  (attention): MultiHeadSelfAttention(\n",
            "    (dropout): Dropout(p=0.1, inplace=False)\n",
            "    (q_lin): Linear(in_features=768, out_features=768, bias=True)\n",
            "    (k_lin): Linear(in_features=768, out_features=768, bias=True)\n",
            "    (v_lin): Linear(in_features=768, out_features=768, bias=True)\n",
            "    (out_lin): Linear(in_features=768, out_features=768, bias=True)\n",
            "  )\n",
            "  (sa_layer_norm): LayerNorm((768,), eps=1e-12, elementwise_affine=True)\n",
            "  (ffn): FFN(\n",
            "    (dropout): Dropout(p=0.1, inplace=False)\n",
            "    (lin1): Linear(in_features=768, out_features=3072, bias=True)\n",
            "    (lin2): Linear(in_features=3072, out_features=768, bias=True)\n",
            "    (activation): GELUActivation()\n",
            "  )\n",
            "  (output_layer_norm): LayerNorm((768,), eps=1e-12, elementwise_affine=True)\n",
            ")\n",
            "-------------------------------------------\n",
            "MultiHeadSelfAttention(\n",
            "  (dropout): Dropout(p=0.1, inplace=False)\n",
            "  (q_lin): Linear(in_features=768, out_features=768, bias=True)\n",
            "  (k_lin): Linear(in_features=768, out_features=768, bias=True)\n",
            "  (v_lin): Linear(in_features=768, out_features=768, bias=True)\n",
            "  (out_lin): Linear(in_features=768, out_features=768, bias=True)\n",
            ")\n",
            "-------------------------------------------\n",
            "Dropout(p=0.1, inplace=False)\n",
            "-------------------------------------------\n",
            "Linear(in_features=768, out_features=768, bias=True)\n",
            "-------------------------------------------\n",
            "Linear(in_features=768, out_features=768, bias=True)\n",
            "-------------------------------------------\n",
            "Linear(in_features=768, out_features=768, bias=True)\n",
            "-------------------------------------------\n",
            "Linear(in_features=768, out_features=768, bias=True)\n",
            "-------------------------------------------\n",
            "LayerNorm((768,), eps=1e-12, elementwise_affine=True)\n",
            "-------------------------------------------\n",
            "FFN(\n",
            "  (dropout): Dropout(p=0.1, inplace=False)\n",
            "  (lin1): Linear(in_features=768, out_features=3072, bias=True)\n",
            "  (lin2): Linear(in_features=3072, out_features=768, bias=True)\n",
            "  (activation): GELUActivation()\n",
            ")\n",
            "-------------------------------------------\n",
            "Dropout(p=0.1, inplace=False)\n",
            "-------------------------------------------\n",
            "Linear(in_features=768, out_features=3072, bias=True)\n",
            "-------------------------------------------\n",
            "Linear(in_features=3072, out_features=768, bias=True)\n",
            "-------------------------------------------\n",
            "GELUActivation()\n",
            "-------------------------------------------\n",
            "LayerNorm((768,), eps=1e-12, elementwise_affine=True)\n",
            "-------------------------------------------\n",
            "TransformerBlock(\n",
            "  (attention): MultiHeadSelfAttention(\n",
            "    (dropout): Dropout(p=0.1, inplace=False)\n",
            "    (q_lin): Linear(in_features=768, out_features=768, bias=True)\n",
            "    (k_lin): Linear(in_features=768, out_features=768, bias=True)\n",
            "    (v_lin): Linear(in_features=768, out_features=768, bias=True)\n",
            "    (out_lin): Linear(in_features=768, out_features=768, bias=True)\n",
            "  )\n",
            "  (sa_layer_norm): LayerNorm((768,), eps=1e-12, elementwise_affine=True)\n",
            "  (ffn): FFN(\n",
            "    (dropout): Dropout(p=0.1, inplace=False)\n",
            "    (lin1): Linear(in_features=768, out_features=3072, bias=True)\n",
            "    (lin2): Linear(in_features=3072, out_features=768, bias=True)\n",
            "    (activation): GELUActivation()\n",
            "  )\n",
            "  (output_layer_norm): LayerNorm((768,), eps=1e-12, elementwise_affine=True)\n",
            ")\n",
            "-------------------------------------------\n",
            "MultiHeadSelfAttention(\n",
            "  (dropout): Dropout(p=0.1, inplace=False)\n",
            "  (q_lin): Linear(in_features=768, out_features=768, bias=True)\n",
            "  (k_lin): Linear(in_features=768, out_features=768, bias=True)\n",
            "  (v_lin): Linear(in_features=768, out_features=768, bias=True)\n",
            "  (out_lin): Linear(in_features=768, out_features=768, bias=True)\n",
            ")\n",
            "-------------------------------------------\n",
            "Dropout(p=0.1, inplace=False)\n",
            "-------------------------------------------\n",
            "Linear(in_features=768, out_features=768, bias=True)\n",
            "-------------------------------------------\n",
            "Linear(in_features=768, out_features=768, bias=True)\n",
            "-------------------------------------------\n",
            "Linear(in_features=768, out_features=768, bias=True)\n",
            "-------------------------------------------\n",
            "Linear(in_features=768, out_features=768, bias=True)\n",
            "-------------------------------------------\n",
            "LayerNorm((768,), eps=1e-12, elementwise_affine=True)\n",
            "-------------------------------------------\n",
            "FFN(\n",
            "  (dropout): Dropout(p=0.1, inplace=False)\n",
            "  (lin1): Linear(in_features=768, out_features=3072, bias=True)\n",
            "  (lin2): Linear(in_features=3072, out_features=768, bias=True)\n",
            "  (activation): GELUActivation()\n",
            ")\n",
            "-------------------------------------------\n",
            "Dropout(p=0.1, inplace=False)\n",
            "-------------------------------------------\n",
            "Linear(in_features=768, out_features=3072, bias=True)\n",
            "-------------------------------------------\n",
            "Linear(in_features=3072, out_features=768, bias=True)\n",
            "-------------------------------------------\n",
            "GELUActivation()\n",
            "-------------------------------------------\n",
            "LayerNorm((768,), eps=1e-12, elementwise_affine=True)\n",
            "-------------------------------------------\n",
            "TransformerBlock(\n",
            "  (attention): MultiHeadSelfAttention(\n",
            "    (dropout): Dropout(p=0.1, inplace=False)\n",
            "    (q_lin): Linear(in_features=768, out_features=768, bias=True)\n",
            "    (k_lin): Linear(in_features=768, out_features=768, bias=True)\n",
            "    (v_lin): Linear(in_features=768, out_features=768, bias=True)\n",
            "    (out_lin): Linear(in_features=768, out_features=768, bias=True)\n",
            "  )\n",
            "  (sa_layer_norm): LayerNorm((768,), eps=1e-12, elementwise_affine=True)\n",
            "  (ffn): FFN(\n",
            "    (dropout): Dropout(p=0.1, inplace=False)\n",
            "    (lin1): Linear(in_features=768, out_features=3072, bias=True)\n",
            "    (lin2): Linear(in_features=3072, out_features=768, bias=True)\n",
            "    (activation): GELUActivation()\n",
            "  )\n",
            "  (output_layer_norm): LayerNorm((768,), eps=1e-12, elementwise_affine=True)\n",
            ")\n",
            "-------------------------------------------\n",
            "MultiHeadSelfAttention(\n",
            "  (dropout): Dropout(p=0.1, inplace=False)\n",
            "  (q_lin): Linear(in_features=768, out_features=768, bias=True)\n",
            "  (k_lin): Linear(in_features=768, out_features=768, bias=True)\n",
            "  (v_lin): Linear(in_features=768, out_features=768, bias=True)\n",
            "  (out_lin): Linear(in_features=768, out_features=768, bias=True)\n",
            ")\n",
            "-------------------------------------------\n",
            "Dropout(p=0.1, inplace=False)\n",
            "-------------------------------------------\n",
            "Linear(in_features=768, out_features=768, bias=True)\n",
            "-------------------------------------------\n",
            "Linear(in_features=768, out_features=768, bias=True)\n",
            "-------------------------------------------\n",
            "Linear(in_features=768, out_features=768, bias=True)\n",
            "-------------------------------------------\n",
            "Linear(in_features=768, out_features=768, bias=True)\n",
            "-------------------------------------------\n",
            "LayerNorm((768,), eps=1e-12, elementwise_affine=True)\n",
            "-------------------------------------------\n",
            "FFN(\n",
            "  (dropout): Dropout(p=0.1, inplace=False)\n",
            "  (lin1): Linear(in_features=768, out_features=3072, bias=True)\n",
            "  (lin2): Linear(in_features=3072, out_features=768, bias=True)\n",
            "  (activation): GELUActivation()\n",
            ")\n",
            "-------------------------------------------\n",
            "Dropout(p=0.1, inplace=False)\n",
            "-------------------------------------------\n",
            "Linear(in_features=768, out_features=3072, bias=True)\n",
            "-------------------------------------------\n",
            "Linear(in_features=3072, out_features=768, bias=True)\n",
            "-------------------------------------------\n",
            "GELUActivation()\n",
            "-------------------------------------------\n",
            "LayerNorm((768,), eps=1e-12, elementwise_affine=True)\n",
            "-------------------------------------------\n",
            "TransformerBlock(\n",
            "  (attention): MultiHeadSelfAttention(\n",
            "    (dropout): Dropout(p=0.1, inplace=False)\n",
            "    (q_lin): Linear(in_features=768, out_features=768, bias=True)\n",
            "    (k_lin): Linear(in_features=768, out_features=768, bias=True)\n",
            "    (v_lin): Linear(in_features=768, out_features=768, bias=True)\n",
            "    (out_lin): Linear(in_features=768, out_features=768, bias=True)\n",
            "  )\n",
            "  (sa_layer_norm): LayerNorm((768,), eps=1e-12, elementwise_affine=True)\n",
            "  (ffn): FFN(\n",
            "    (dropout): Dropout(p=0.1, inplace=False)\n",
            "    (lin1): Linear(in_features=768, out_features=3072, bias=True)\n",
            "    (lin2): Linear(in_features=3072, out_features=768, bias=True)\n",
            "    (activation): GELUActivation()\n",
            "  )\n",
            "  (output_layer_norm): LayerNorm((768,), eps=1e-12, elementwise_affine=True)\n",
            ")\n",
            "-------------------------------------------\n",
            "MultiHeadSelfAttention(\n",
            "  (dropout): Dropout(p=0.1, inplace=False)\n",
            "  (q_lin): Linear(in_features=768, out_features=768, bias=True)\n",
            "  (k_lin): Linear(in_features=768, out_features=768, bias=True)\n",
            "  (v_lin): Linear(in_features=768, out_features=768, bias=True)\n",
            "  (out_lin): Linear(in_features=768, out_features=768, bias=True)\n",
            ")\n",
            "-------------------------------------------\n",
            "Dropout(p=0.1, inplace=False)\n",
            "-------------------------------------------\n",
            "Linear(in_features=768, out_features=768, bias=True)\n",
            "-------------------------------------------\n",
            "Linear(in_features=768, out_features=768, bias=True)\n",
            "-------------------------------------------\n",
            "Linear(in_features=768, out_features=768, bias=True)\n",
            "-------------------------------------------\n",
            "Linear(in_features=768, out_features=768, bias=True)\n",
            "-------------------------------------------\n",
            "LayerNorm((768,), eps=1e-12, elementwise_affine=True)\n",
            "-------------------------------------------\n",
            "FFN(\n",
            "  (dropout): Dropout(p=0.1, inplace=False)\n",
            "  (lin1): Linear(in_features=768, out_features=3072, bias=True)\n",
            "  (lin2): Linear(in_features=3072, out_features=768, bias=True)\n",
            "  (activation): GELUActivation()\n",
            ")\n",
            "-------------------------------------------\n",
            "Dropout(p=0.1, inplace=False)\n",
            "-------------------------------------------\n",
            "Linear(in_features=768, out_features=3072, bias=True)\n",
            "-------------------------------------------\n",
            "Linear(in_features=3072, out_features=768, bias=True)\n",
            "-------------------------------------------\n",
            "GELUActivation()\n",
            "-------------------------------------------\n",
            "LayerNorm((768,), eps=1e-12, elementwise_affine=True)\n",
            "-------------------------------------------\n",
            "Dropout(p=0.1, inplace=False)\n",
            "-------------------------------------------\n",
            "Linear(in_features=768, out_features=9, bias=True)\n",
            "-------------------------------------------\n",
            "95\n"
          ]
        }
      ]
    },
    {
      "cell_type": "code",
      "source": [
        "num = 0\n",
        "for module in model.named_children():\n",
        "  # print(name)\n",
        "  print(module)\n",
        "  print(\"-------------------------------------------\")\n",
        "  num+=1\n",
        "print(num)"
      ],
      "metadata": {
        "colab": {
          "base_uri": "https://localhost:8080/"
        },
        "id": "vBRZpyKCjEPp",
        "outputId": "ee0997e3-be77-4f18-ec0c-1b0f69efe16d"
      },
      "execution_count": 99,
      "outputs": [
        {
          "output_type": "stream",
          "name": "stdout",
          "text": [
            "('distilbert', DistilBertModel(\n",
            "  (embeddings): Embeddings(\n",
            "    (word_embeddings): Embedding(30522, 768, padding_idx=0)\n",
            "    (position_embeddings): Embedding(512, 768)\n",
            "    (LayerNorm): LayerNorm((768,), eps=1e-12, elementwise_affine=True)\n",
            "    (dropout): Dropout(p=0.1, inplace=False)\n",
            "  )\n",
            "  (transformer): Transformer(\n",
            "    (layer): ModuleList(\n",
            "      (0-5): 6 x TransformerBlock(\n",
            "        (attention): MultiHeadSelfAttention(\n",
            "          (dropout): Dropout(p=0.1, inplace=False)\n",
            "          (q_lin): Linear(in_features=768, out_features=768, bias=True)\n",
            "          (k_lin): Linear(in_features=768, out_features=768, bias=True)\n",
            "          (v_lin): Linear(in_features=768, out_features=768, bias=True)\n",
            "          (out_lin): Linear(in_features=768, out_features=768, bias=True)\n",
            "        )\n",
            "        (sa_layer_norm): LayerNorm((768,), eps=1e-12, elementwise_affine=True)\n",
            "        (ffn): FFN(\n",
            "          (dropout): Dropout(p=0.1, inplace=False)\n",
            "          (lin1): Linear(in_features=768, out_features=3072, bias=True)\n",
            "          (lin2): Linear(in_features=3072, out_features=768, bias=True)\n",
            "          (activation): GELUActivation()\n",
            "        )\n",
            "        (output_layer_norm): LayerNorm((768,), eps=1e-12, elementwise_affine=True)\n",
            "      )\n",
            "    )\n",
            "  )\n",
            "))\n",
            "-------------------------------------------\n",
            "('dropout', Dropout(p=0.1, inplace=False))\n",
            "-------------------------------------------\n",
            "('classifier', Linear(in_features=768, out_features=9, bias=True))\n",
            "-------------------------------------------\n",
            "3\n"
          ]
        }
      ]
    },
    {
      "cell_type": "code",
      "source": [
        "n = 0\n",
        "for param in model.parameters():\n",
        "  # print(param)\n",
        "  # print(\"-------------------------------------------\")\n",
        "  n+=1\n",
        "print(n)"
      ],
      "metadata": {
        "colab": {
          "base_uri": "https://localhost:8080/"
        },
        "id": "t1aYUOAzjN6r",
        "outputId": "a62aaff0-153b-4160-bc7c-37db6cc226b2"
      },
      "execution_count": 100,
      "outputs": [
        {
          "output_type": "stream",
          "name": "stdout",
          "text": [
            "102\n"
          ]
        }
      ]
    },
    {
      "cell_type": "code",
      "source": [
        "for param in model.parameters():\n",
        "    param.requires_grad = False"
      ],
      "metadata": {
        "id": "RlQrQWNcgK4V"
      },
      "execution_count": 102,
      "outputs": []
    },
    {
      "cell_type": "code",
      "source": [
        "model"
      ],
      "metadata": {
        "colab": {
          "base_uri": "https://localhost:8080/"
        },
        "id": "FXl9Fxm66JLA",
        "outputId": "37fa2755-edf0-47af-a4f7-c4390a8d3802"
      },
      "execution_count": 103,
      "outputs": [
        {
          "output_type": "execute_result",
          "data": {
            "text/plain": [
              "DistilBertForTokenClassification(\n",
              "  (distilbert): DistilBertModel(\n",
              "    (embeddings): Embeddings(\n",
              "      (word_embeddings): Embedding(30522, 768, padding_idx=0)\n",
              "      (position_embeddings): Embedding(512, 768)\n",
              "      (LayerNorm): LayerNorm((768,), eps=1e-12, elementwise_affine=True)\n",
              "      (dropout): Dropout(p=0.1, inplace=False)\n",
              "    )\n",
              "    (transformer): Transformer(\n",
              "      (layer): ModuleList(\n",
              "        (0-5): 6 x TransformerBlock(\n",
              "          (attention): MultiHeadSelfAttention(\n",
              "            (dropout): Dropout(p=0.1, inplace=False)\n",
              "            (q_lin): Linear(in_features=768, out_features=768, bias=True)\n",
              "            (k_lin): Linear(in_features=768, out_features=768, bias=True)\n",
              "            (v_lin): Linear(in_features=768, out_features=768, bias=True)\n",
              "            (out_lin): Linear(in_features=768, out_features=768, bias=True)\n",
              "          )\n",
              "          (sa_layer_norm): LayerNorm((768,), eps=1e-12, elementwise_affine=True)\n",
              "          (ffn): FFN(\n",
              "            (dropout): Dropout(p=0.1, inplace=False)\n",
              "            (lin1): Linear(in_features=768, out_features=3072, bias=True)\n",
              "            (lin2): Linear(in_features=3072, out_features=768, bias=True)\n",
              "            (activation): GELUActivation()\n",
              "          )\n",
              "          (output_layer_norm): LayerNorm((768,), eps=1e-12, elementwise_affine=True)\n",
              "        )\n",
              "      )\n",
              "    )\n",
              "  )\n",
              "  (dropout): Dropout(p=0.1, inplace=False)\n",
              "  (classifier): Linear(in_features=768, out_features=9, bias=True)\n",
              ")"
            ]
          },
          "metadata": {},
          "execution_count": 103
        }
      ]
    },
    {
      "cell_type": "code",
      "source": [
        "arg = TrainingArguments(\n",
        "    \"bert-finetuned-ner\",\n",
        "    evaluation_strategy=\"epoch\",\n",
        "    save_strategy=\"epoch\",\n",
        "    learning_rate=2e-5,\n",
        "    num_train_epochs=3,\n",
        "    weight_decay=0.01,\n",
        ")"
      ],
      "metadata": {
        "colab": {
          "base_uri": "https://localhost:8080/"
        },
        "id": "5A7p-Cir2owg",
        "outputId": "e39f5cf7-6b99-4bec-94af-c75b47b43db7"
      },
      "execution_count": 101,
      "outputs": [
        {
          "output_type": "stream",
          "name": "stderr",
          "text": [
            "/usr/local/lib/python3.10/dist-packages/transformers/training_args.py:1494: FutureWarning: `evaluation_strategy` is deprecated and will be removed in version 4.46 of 🤗 Transformers. Use `eval_strategy` instead\n",
            "  warnings.warn(\n"
          ]
        }
      ]
    },
    {
      "cell_type": "code",
      "source": [
        "data_collator = DataCollatorForTokenClassification(tokenizer)"
      ],
      "metadata": {
        "id": "Cd4GgcOF23mj"
      },
      "execution_count": 70,
      "outputs": []
    },
    {
      "cell_type": "code",
      "source": [
        "metric = load_metric(\"seqeval\")"
      ],
      "metadata": {
        "id": "1hygwKt33AAm"
      },
      "execution_count": 72,
      "outputs": []
    },
    {
      "cell_type": "code",
      "source": [
        "def compute_metrics(eval_preds):\n",
        "    pred_logits, labels = eval_preds\n",
        "\n",
        "    pred_logits = np.argmax(pred_logits, axis=2)\n",
        "\n",
        "    predictions = [\n",
        "        [label_list[eval_preds] for (eval_preds, l) in zip(prediction, label) if l != -100]\n",
        "        for prediction, label in zip(pred_logits, labels)\n",
        "    ]\n",
        "\n",
        "    true_labels = [\n",
        "      [label_list[l] for (eval_preds, l) in zip(prediction, label) if l != -100]\n",
        "       for prediction, label in zip(pred_logits, labels)\n",
        "   ]\n",
        "    results = metric.compute(predictions=predictions, references=true_labels)\n",
        "    return {\n",
        "   \"precision\": results[\"overall_precision\"],\n",
        "   \"recall\": results[\"overall_recall\"],\n",
        "   \"f1\": results[\"overall_f1\"],\n",
        "  \"accuracy\": results[\"overall_accuracy\"],\n",
        "  }"
      ],
      "metadata": {
        "id": "0qDK4Hey3EOZ"
      },
      "execution_count": 73,
      "outputs": []
    },
    {
      "cell_type": "code",
      "execution_count": 104,
      "metadata": {
        "id": "fl3hjIV9fxOz"
      },
      "outputs": [],
      "source": [
        "class LoRALayer(torch.nn.Module):\n",
        "    def __init__(self, in_dim, out_dim, rank, alpha):\n",
        "        super().__init__()\n",
        "        std_dev = 1 / torch.sqrt(torch.tensor(rank).float())\n",
        "        self.A = torch.nn.Parameter(torch.randn(in_dim, rank) * std_dev)\n",
        "        self.B = torch.nn.Parameter(torch.zeros(rank, out_dim))\n",
        "        self.alpha = alpha\n",
        "\n",
        "    def forward(self, x):\n",
        "        x = self.alpha * (x @ self.A @ self.B)\n",
        "        return x"
      ]
    },
    {
      "cell_type": "code",
      "source": [
        "class LinearWithLoRA(torch.nn.Module):\n",
        "    def __init__(self, linear, rank, alpha):\n",
        "        super().__init__()\n",
        "        self.linear = linear\n",
        "        self.lora = LoRALayer(\n",
        "            linear.in_features, linear.out_features, rank, alpha\n",
        "        )\n",
        "\n",
        "    def forward(self, x):\n",
        "        return self.linear(x) + self.lora(x)"
      ],
      "metadata": {
        "id": "Oq-I9aVtg03E"
      },
      "execution_count": 105,
      "outputs": []
    },
    {
      "cell_type": "code",
      "source": [
        "lora_r = 8\n",
        "lora_alpha = 16\n",
        "lora_dropout = 0.05\n",
        "lora_query = True\n",
        "lora_key = False\n",
        "lora_value = True\n",
        "lora_projection = False\n",
        "lora_mlp = False\n",
        "lora_head = False"
      ],
      "metadata": {
        "id": "iYc03M2Yg6hD"
      },
      "execution_count": 106,
      "outputs": []
    },
    {
      "cell_type": "code",
      "source": [
        "from functools import partial\n",
        "\n",
        "layers = []\n",
        "\n",
        "assign_lora = partial(LinearWithLoRA, rank=lora_r, alpha=lora_alpha)\n",
        "\n",
        "for layer in model.distilbert.transformer.layer:\n",
        "    if lora_query:\n",
        "        layer.attention.q_lin = assign_lora(layer.attention.q_lin)\n",
        "    if lora_key:\n",
        "        layer.attention.k_lin = assign_lora(layer.attention.k_lin)\n",
        "    if lora_value:\n",
        "        layer.attention.v_lin = assign_lora(layer.attention.v_lin)\n",
        "    if lora_projection:\n",
        "        layer.attention.out_lin = assign_lora(layer.attention.out_lin)\n",
        "    if lora_mlp:\n",
        "        layer.ffn.lin1 = assign_lora(layer.ffn.lin1)\n",
        "        layer.ffn.lin2 = assign_lora(layer.ffn.lin2)\n",
        "if lora_head:\n",
        "    model.pre_classifier = assign_lora(model.pre_classifier)\n",
        "    model.classifier = assign_lora(model.classifier)"
      ],
      "metadata": {
        "id": "XN6dhyQGgFpz"
      },
      "execution_count": 107,
      "outputs": []
    },
    {
      "cell_type": "code",
      "source": [
        "model"
      ],
      "metadata": {
        "colab": {
          "base_uri": "https://localhost:8080/"
        },
        "id": "Fg6K2043hG8t",
        "outputId": "fd8ea688-6e01-4f7e-caa7-f4930e8607f3"
      },
      "execution_count": 108,
      "outputs": [
        {
          "output_type": "execute_result",
          "data": {
            "text/plain": [
              "DistilBertForTokenClassification(\n",
              "  (distilbert): DistilBertModel(\n",
              "    (embeddings): Embeddings(\n",
              "      (word_embeddings): Embedding(30522, 768, padding_idx=0)\n",
              "      (position_embeddings): Embedding(512, 768)\n",
              "      (LayerNorm): LayerNorm((768,), eps=1e-12, elementwise_affine=True)\n",
              "      (dropout): Dropout(p=0.1, inplace=False)\n",
              "    )\n",
              "    (transformer): Transformer(\n",
              "      (layer): ModuleList(\n",
              "        (0-5): 6 x TransformerBlock(\n",
              "          (attention): MultiHeadSelfAttention(\n",
              "            (dropout): Dropout(p=0.1, inplace=False)\n",
              "            (q_lin): LinearWithLoRA(\n",
              "              (linear): Linear(in_features=768, out_features=768, bias=True)\n",
              "              (lora): LoRALayer()\n",
              "            )\n",
              "            (k_lin): Linear(in_features=768, out_features=768, bias=True)\n",
              "            (v_lin): LinearWithLoRA(\n",
              "              (linear): Linear(in_features=768, out_features=768, bias=True)\n",
              "              (lora): LoRALayer()\n",
              "            )\n",
              "            (out_lin): Linear(in_features=768, out_features=768, bias=True)\n",
              "          )\n",
              "          (sa_layer_norm): LayerNorm((768,), eps=1e-12, elementwise_affine=True)\n",
              "          (ffn): FFN(\n",
              "            (dropout): Dropout(p=0.1, inplace=False)\n",
              "            (lin1): Linear(in_features=768, out_features=3072, bias=True)\n",
              "            (lin2): Linear(in_features=3072, out_features=768, bias=True)\n",
              "            (activation): GELUActivation()\n",
              "          )\n",
              "          (output_layer_norm): LayerNorm((768,), eps=1e-12, elementwise_affine=True)\n",
              "        )\n",
              "      )\n",
              "    )\n",
              "  )\n",
              "  (dropout): Dropout(p=0.1, inplace=False)\n",
              "  (classifier): Linear(in_features=768, out_features=9, bias=True)\n",
              ")"
            ]
          },
          "metadata": {},
          "execution_count": 108
        }
      ]
    },
    {
      "cell_type": "code",
      "source": [
        "# Check if linear layers are frozen\n",
        "for name, param in model.named_parameters():\n",
        "    print(f\"{name}: {param.requires_grad}\")"
      ],
      "metadata": {
        "colab": {
          "base_uri": "https://localhost:8080/"
        },
        "id": "kN45kaYLhJ2_",
        "outputId": "23e765a5-9f67-45a4-a34b-56c6396af8aa"
      },
      "execution_count": 109,
      "outputs": [
        {
          "output_type": "stream",
          "name": "stdout",
          "text": [
            "distilbert.embeddings.word_embeddings.weight: False\n",
            "distilbert.embeddings.position_embeddings.weight: False\n",
            "distilbert.embeddings.LayerNorm.weight: False\n",
            "distilbert.embeddings.LayerNorm.bias: False\n",
            "distilbert.transformer.layer.0.attention.q_lin.linear.weight: False\n",
            "distilbert.transformer.layer.0.attention.q_lin.linear.bias: False\n",
            "distilbert.transformer.layer.0.attention.q_lin.lora.A: True\n",
            "distilbert.transformer.layer.0.attention.q_lin.lora.B: True\n",
            "distilbert.transformer.layer.0.attention.k_lin.weight: False\n",
            "distilbert.transformer.layer.0.attention.k_lin.bias: False\n",
            "distilbert.transformer.layer.0.attention.v_lin.linear.weight: False\n",
            "distilbert.transformer.layer.0.attention.v_lin.linear.bias: False\n",
            "distilbert.transformer.layer.0.attention.v_lin.lora.A: True\n",
            "distilbert.transformer.layer.0.attention.v_lin.lora.B: True\n",
            "distilbert.transformer.layer.0.attention.out_lin.weight: False\n",
            "distilbert.transformer.layer.0.attention.out_lin.bias: False\n",
            "distilbert.transformer.layer.0.sa_layer_norm.weight: False\n",
            "distilbert.transformer.layer.0.sa_layer_norm.bias: False\n",
            "distilbert.transformer.layer.0.ffn.lin1.weight: False\n",
            "distilbert.transformer.layer.0.ffn.lin1.bias: False\n",
            "distilbert.transformer.layer.0.ffn.lin2.weight: False\n",
            "distilbert.transformer.layer.0.ffn.lin2.bias: False\n",
            "distilbert.transformer.layer.0.output_layer_norm.weight: False\n",
            "distilbert.transformer.layer.0.output_layer_norm.bias: False\n",
            "distilbert.transformer.layer.1.attention.q_lin.linear.weight: False\n",
            "distilbert.transformer.layer.1.attention.q_lin.linear.bias: False\n",
            "distilbert.transformer.layer.1.attention.q_lin.lora.A: True\n",
            "distilbert.transformer.layer.1.attention.q_lin.lora.B: True\n",
            "distilbert.transformer.layer.1.attention.k_lin.weight: False\n",
            "distilbert.transformer.layer.1.attention.k_lin.bias: False\n",
            "distilbert.transformer.layer.1.attention.v_lin.linear.weight: False\n",
            "distilbert.transformer.layer.1.attention.v_lin.linear.bias: False\n",
            "distilbert.transformer.layer.1.attention.v_lin.lora.A: True\n",
            "distilbert.transformer.layer.1.attention.v_lin.lora.B: True\n",
            "distilbert.transformer.layer.1.attention.out_lin.weight: False\n",
            "distilbert.transformer.layer.1.attention.out_lin.bias: False\n",
            "distilbert.transformer.layer.1.sa_layer_norm.weight: False\n",
            "distilbert.transformer.layer.1.sa_layer_norm.bias: False\n",
            "distilbert.transformer.layer.1.ffn.lin1.weight: False\n",
            "distilbert.transformer.layer.1.ffn.lin1.bias: False\n",
            "distilbert.transformer.layer.1.ffn.lin2.weight: False\n",
            "distilbert.transformer.layer.1.ffn.lin2.bias: False\n",
            "distilbert.transformer.layer.1.output_layer_norm.weight: False\n",
            "distilbert.transformer.layer.1.output_layer_norm.bias: False\n",
            "distilbert.transformer.layer.2.attention.q_lin.linear.weight: False\n",
            "distilbert.transformer.layer.2.attention.q_lin.linear.bias: False\n",
            "distilbert.transformer.layer.2.attention.q_lin.lora.A: True\n",
            "distilbert.transformer.layer.2.attention.q_lin.lora.B: True\n",
            "distilbert.transformer.layer.2.attention.k_lin.weight: False\n",
            "distilbert.transformer.layer.2.attention.k_lin.bias: False\n",
            "distilbert.transformer.layer.2.attention.v_lin.linear.weight: False\n",
            "distilbert.transformer.layer.2.attention.v_lin.linear.bias: False\n",
            "distilbert.transformer.layer.2.attention.v_lin.lora.A: True\n",
            "distilbert.transformer.layer.2.attention.v_lin.lora.B: True\n",
            "distilbert.transformer.layer.2.attention.out_lin.weight: False\n",
            "distilbert.transformer.layer.2.attention.out_lin.bias: False\n",
            "distilbert.transformer.layer.2.sa_layer_norm.weight: False\n",
            "distilbert.transformer.layer.2.sa_layer_norm.bias: False\n",
            "distilbert.transformer.layer.2.ffn.lin1.weight: False\n",
            "distilbert.transformer.layer.2.ffn.lin1.bias: False\n",
            "distilbert.transformer.layer.2.ffn.lin2.weight: False\n",
            "distilbert.transformer.layer.2.ffn.lin2.bias: False\n",
            "distilbert.transformer.layer.2.output_layer_norm.weight: False\n",
            "distilbert.transformer.layer.2.output_layer_norm.bias: False\n",
            "distilbert.transformer.layer.3.attention.q_lin.linear.weight: False\n",
            "distilbert.transformer.layer.3.attention.q_lin.linear.bias: False\n",
            "distilbert.transformer.layer.3.attention.q_lin.lora.A: True\n",
            "distilbert.transformer.layer.3.attention.q_lin.lora.B: True\n",
            "distilbert.transformer.layer.3.attention.k_lin.weight: False\n",
            "distilbert.transformer.layer.3.attention.k_lin.bias: False\n",
            "distilbert.transformer.layer.3.attention.v_lin.linear.weight: False\n",
            "distilbert.transformer.layer.3.attention.v_lin.linear.bias: False\n",
            "distilbert.transformer.layer.3.attention.v_lin.lora.A: True\n",
            "distilbert.transformer.layer.3.attention.v_lin.lora.B: True\n",
            "distilbert.transformer.layer.3.attention.out_lin.weight: False\n",
            "distilbert.transformer.layer.3.attention.out_lin.bias: False\n",
            "distilbert.transformer.layer.3.sa_layer_norm.weight: False\n",
            "distilbert.transformer.layer.3.sa_layer_norm.bias: False\n",
            "distilbert.transformer.layer.3.ffn.lin1.weight: False\n",
            "distilbert.transformer.layer.3.ffn.lin1.bias: False\n",
            "distilbert.transformer.layer.3.ffn.lin2.weight: False\n",
            "distilbert.transformer.layer.3.ffn.lin2.bias: False\n",
            "distilbert.transformer.layer.3.output_layer_norm.weight: False\n",
            "distilbert.transformer.layer.3.output_layer_norm.bias: False\n",
            "distilbert.transformer.layer.4.attention.q_lin.linear.weight: False\n",
            "distilbert.transformer.layer.4.attention.q_lin.linear.bias: False\n",
            "distilbert.transformer.layer.4.attention.q_lin.lora.A: True\n",
            "distilbert.transformer.layer.4.attention.q_lin.lora.B: True\n",
            "distilbert.transformer.layer.4.attention.k_lin.weight: False\n",
            "distilbert.transformer.layer.4.attention.k_lin.bias: False\n",
            "distilbert.transformer.layer.4.attention.v_lin.linear.weight: False\n",
            "distilbert.transformer.layer.4.attention.v_lin.linear.bias: False\n",
            "distilbert.transformer.layer.4.attention.v_lin.lora.A: True\n",
            "distilbert.transformer.layer.4.attention.v_lin.lora.B: True\n",
            "distilbert.transformer.layer.4.attention.out_lin.weight: False\n",
            "distilbert.transformer.layer.4.attention.out_lin.bias: False\n",
            "distilbert.transformer.layer.4.sa_layer_norm.weight: False\n",
            "distilbert.transformer.layer.4.sa_layer_norm.bias: False\n",
            "distilbert.transformer.layer.4.ffn.lin1.weight: False\n",
            "distilbert.transformer.layer.4.ffn.lin1.bias: False\n",
            "distilbert.transformer.layer.4.ffn.lin2.weight: False\n",
            "distilbert.transformer.layer.4.ffn.lin2.bias: False\n",
            "distilbert.transformer.layer.4.output_layer_norm.weight: False\n",
            "distilbert.transformer.layer.4.output_layer_norm.bias: False\n",
            "distilbert.transformer.layer.5.attention.q_lin.linear.weight: False\n",
            "distilbert.transformer.layer.5.attention.q_lin.linear.bias: False\n",
            "distilbert.transformer.layer.5.attention.q_lin.lora.A: True\n",
            "distilbert.transformer.layer.5.attention.q_lin.lora.B: True\n",
            "distilbert.transformer.layer.5.attention.k_lin.weight: False\n",
            "distilbert.transformer.layer.5.attention.k_lin.bias: False\n",
            "distilbert.transformer.layer.5.attention.v_lin.linear.weight: False\n",
            "distilbert.transformer.layer.5.attention.v_lin.linear.bias: False\n",
            "distilbert.transformer.layer.5.attention.v_lin.lora.A: True\n",
            "distilbert.transformer.layer.5.attention.v_lin.lora.B: True\n",
            "distilbert.transformer.layer.5.attention.out_lin.weight: False\n",
            "distilbert.transformer.layer.5.attention.out_lin.bias: False\n",
            "distilbert.transformer.layer.5.sa_layer_norm.weight: False\n",
            "distilbert.transformer.layer.5.sa_layer_norm.bias: False\n",
            "distilbert.transformer.layer.5.ffn.lin1.weight: False\n",
            "distilbert.transformer.layer.5.ffn.lin1.bias: False\n",
            "distilbert.transformer.layer.5.ffn.lin2.weight: False\n",
            "distilbert.transformer.layer.5.ffn.lin2.bias: False\n",
            "distilbert.transformer.layer.5.output_layer_norm.weight: False\n",
            "distilbert.transformer.layer.5.output_layer_norm.bias: False\n",
            "classifier.weight: False\n",
            "classifier.bias: False\n"
          ]
        }
      ]
    },
    {
      "cell_type": "code",
      "source": [
        "n_params = 0\n",
        "n_trainable_params = 0\n",
        "\n",
        "# count the number of trainable parameters\n",
        "for n, p in model.named_parameters():\n",
        "    n_params += p.numel()\n",
        "    if p.requires_grad:\n",
        "        n_trainable_params += p.numel()\n",
        "\n",
        "print(f\"Total parameters: {n_params}\")\n",
        "print(f\"Trainable parameters: {n_trainable_params}\")\n",
        "print(f\"Percentage trainable: {round(n_trainable_params / n_params * 100, 2)}%\")"
      ],
      "metadata": {
        "colab": {
          "base_uri": "https://localhost:8080/"
        },
        "id": "ay1g69GNh8mf",
        "outputId": "073a1525-eb1d-489c-c557-fbe1f76b5005"
      },
      "execution_count": 110,
      "outputs": [
        {
          "output_type": "stream",
          "name": "stdout",
          "text": [
            "Total parameters: 66517257\n",
            "Trainable parameters: 147456\n",
            "Percentage trainable: 0.22%\n"
          ]
        }
      ]
    },
    {
      "cell_type": "code",
      "source": [
        "trainer = Trainer(\n",
        "    model=model,\n",
        "    args=args,\n",
        "    train_dataset=tokenized_datasets[\"train\"],\n",
        "    eval_dataset=tokenized_datasets[\"validation\"],\n",
        "    data_collator=data_collator,\n",
        "    tokenizer=tokenizer,\n",
        "    compute_metrics=compute_metrics\n",
        ")"
      ],
      "metadata": {
        "id": "tG7JuivZwsu6"
      },
      "execution_count": 111,
      "outputs": []
    },
    {
      "cell_type": "code",
      "source": [
        "trainer.train()"
      ],
      "metadata": {
        "colab": {
          "base_uri": "https://localhost:8080/",
          "height": 219
        },
        "id": "sutTNrlhwstT",
        "outputId": "0ce7a57e-706e-490d-aeef-b72f0f9415a4"
      },
      "execution_count": 112,
      "outputs": [
        {
          "output_type": "display_data",
          "data": {
            "text/plain": [
              "<IPython.core.display.HTML object>"
            ],
            "text/html": [
              "\n",
              "    <div>\n",
              "      \n",
              "      <progress value='5268' max='5268' style='width:300px; height:20px; vertical-align: middle;'></progress>\n",
              "      [5268/5268 02:35, Epoch 3/3]\n",
              "    </div>\n",
              "    <table border=\"1\" class=\"dataframe\">\n",
              "  <thead>\n",
              " <tr style=\"text-align: left;\">\n",
              "      <th>Epoch</th>\n",
              "      <th>Training Loss</th>\n",
              "      <th>Validation Loss</th>\n",
              "      <th>Precision</th>\n",
              "      <th>Recall</th>\n",
              "      <th>F1</th>\n",
              "      <th>Accuracy</th>\n",
              "    </tr>\n",
              "  </thead>\n",
              "  <tbody>\n",
              "    <tr>\n",
              "      <td>1</td>\n",
              "      <td>0.209900</td>\n",
              "      <td>0.153699</td>\n",
              "      <td>0.781549</td>\n",
              "      <td>0.814073</td>\n",
              "      <td>0.797479</td>\n",
              "      <td>0.958902</td>\n",
              "    </tr>\n",
              "    <tr>\n",
              "      <td>2</td>\n",
              "      <td>0.145600</td>\n",
              "      <td>0.112524</td>\n",
              "      <td>0.863480</td>\n",
              "      <td>0.873140</td>\n",
              "      <td>0.868283</td>\n",
              "      <td>0.971976</td>\n",
              "    </tr>\n",
              "    <tr>\n",
              "      <td>3</td>\n",
              "      <td>0.125200</td>\n",
              "      <td>0.105213</td>\n",
              "      <td>0.871031</td>\n",
              "      <td>0.890032</td>\n",
              "      <td>0.880429</td>\n",
              "      <td>0.973867</td>\n",
              "    </tr>\n",
              "  </tbody>\n",
              "</table><p>"
            ]
          },
          "metadata": {}
        },
        {
          "output_type": "execute_result",
          "data": {
            "text/plain": [
              "TrainOutput(global_step=5268, training_loss=0.19207855491087847, metrics={'train_runtime': 155.1565, 'train_samples_per_second': 271.487, 'train_steps_per_second': 33.953, 'total_flos': 447540458291100.0, 'train_loss': 0.19207855491087847, 'epoch': 3.0})"
            ]
          },
          "metadata": {},
          "execution_count": 112
        }
      ]
    },
    {
      "cell_type": "code",
      "source": [
        "model2 = AutoModelForTokenClassification.from_pretrained(\"distilbert-base-uncased\", num_labels=9)"
      ],
      "metadata": {
        "colab": {
          "base_uri": "https://localhost:8080/"
        },
        "id": "abMoAIFFBKS8",
        "outputId": "7d0191b4-18e3-48ee-b347-d02c34acf571"
      },
      "execution_count": 144,
      "outputs": [
        {
          "output_type": "stream",
          "name": "stderr",
          "text": [
            "Some weights of DistilBertForTokenClassification were not initialized from the model checkpoint at distilbert-base-uncased and are newly initialized: ['classifier.bias', 'classifier.weight']\n",
            "You should probably TRAIN this model on a down-stream task to be able to use it for predictions and inference.\n"
          ]
        }
      ]
    },
    {
      "cell_type": "code",
      "source": [
        "n_params = 0\n",
        "n_trainable_params = 0\n",
        "\n",
        "# count the number of trainable parameters\n",
        "for n, p in model2.named_parameters():\n",
        "    n_params += p.numel()\n",
        "    if p.requires_grad:\n",
        "        n_trainable_params += p.numel()\n",
        "\n",
        "print(f\"Total parameters: {n_params}\")\n",
        "print(f\"Trainable parameters: {n_trainable_params}\")\n",
        "print(f\"Percentage trainable: {round(n_trainable_params / n_params * 100, 2)}%\")"
      ],
      "metadata": {
        "colab": {
          "base_uri": "https://localhost:8080/"
        },
        "id": "pAof5F5lBOHN",
        "outputId": "14d2a513-d87c-4b25-a88f-528b4d70f64e"
      },
      "execution_count": 145,
      "outputs": [
        {
          "output_type": "stream",
          "name": "stdout",
          "text": [
            "Total parameters: 66369801\n",
            "Trainable parameters: 66369801\n",
            "Percentage trainable: 100.0%\n"
          ]
        }
      ]
    },
    {
      "cell_type": "code",
      "source": [
        "trainer2 = Trainer(\n",
        "    model=model2,\n",
        "    args=args,\n",
        "    train_dataset=tokenized_datasets[\"train\"],\n",
        "    eval_dataset=tokenized_datasets[\"validation\"],\n",
        "    data_collator=data_collator,\n",
        "    tokenizer=tokenizer,\n",
        "    compute_metrics=compute_metrics\n",
        ")"
      ],
      "metadata": {
        "id": "1TFoRSKIBEDe"
      },
      "execution_count": 146,
      "outputs": []
    },
    {
      "cell_type": "code",
      "source": [
        "trainer2.train()"
      ],
      "metadata": {
        "colab": {
          "base_uri": "https://localhost:8080/",
          "height": 219
        },
        "id": "oC7w4wiTBTNU",
        "outputId": "1f9a0089-25b1-40c0-a446-90fe814f0459"
      },
      "execution_count": 147,
      "outputs": [
        {
          "output_type": "display_data",
          "data": {
            "text/plain": [
              "<IPython.core.display.HTML object>"
            ],
            "text/html": [
              "\n",
              "    <div>\n",
              "      \n",
              "      <progress value='5268' max='5268' style='width:300px; height:20px; vertical-align: middle;'></progress>\n",
              "      [5268/5268 05:17, Epoch 3/3]\n",
              "    </div>\n",
              "    <table border=\"1\" class=\"dataframe\">\n",
              "  <thead>\n",
              " <tr style=\"text-align: left;\">\n",
              "      <th>Epoch</th>\n",
              "      <th>Training Loss</th>\n",
              "      <th>Validation Loss</th>\n",
              "      <th>Precision</th>\n",
              "      <th>Recall</th>\n",
              "      <th>F1</th>\n",
              "      <th>Accuracy</th>\n",
              "    </tr>\n",
              "  </thead>\n",
              "  <tbody>\n",
              "    <tr>\n",
              "      <td>1</td>\n",
              "      <td>0.081200</td>\n",
              "      <td>0.065169</td>\n",
              "      <td>0.918304</td>\n",
              "      <td>0.925495</td>\n",
              "      <td>0.921885</td>\n",
              "      <td>0.981762</td>\n",
              "    </tr>\n",
              "    <tr>\n",
              "      <td>2</td>\n",
              "      <td>0.038100</td>\n",
              "      <td>0.064867</td>\n",
              "      <td>0.926386</td>\n",
              "      <td>0.934780</td>\n",
              "      <td>0.930564</td>\n",
              "      <td>0.983478</td>\n",
              "    </tr>\n",
              "    <tr>\n",
              "      <td>3</td>\n",
              "      <td>0.025300</td>\n",
              "      <td>0.063401</td>\n",
              "      <td>0.931974</td>\n",
              "      <td>0.941045</td>\n",
              "      <td>0.936488</td>\n",
              "      <td>0.984511</td>\n",
              "    </tr>\n",
              "  </tbody>\n",
              "</table><p>"
            ]
          },
          "metadata": {}
        },
        {
          "output_type": "execute_result",
          "data": {
            "text/plain": [
              "TrainOutput(global_step=5268, training_loss=0.06987119245999857, metrics={'train_runtime': 317.1686, 'train_samples_per_second': 132.809, 'train_steps_per_second': 16.609, 'total_flos': 445994355589020.0, 'train_loss': 0.06987119245999857, 'epoch': 3.0})"
            ]
          },
          "metadata": {},
          "execution_count": 147
        }
      ]
    },
    {
      "cell_type": "code",
      "source": [],
      "metadata": {
        "id": "h8kmTVN396hE"
      },
      "execution_count": null,
      "outputs": []
    }
  ]
}